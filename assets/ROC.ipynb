{
 "cells": [
  {
   "cell_type": "markdown",
   "metadata": {},
   "source": [
    "# Evaluating binary classifiers through ROC curves"
   ]
  },
  {
   "cell_type": "markdown",
   "metadata": {},
   "source": [
    "## 1. Set up"
   ]
  },
  {
   "cell_type": "code",
   "execution_count": 1,
   "metadata": {},
   "outputs": [],
   "source": [
    "import numpy as np\n",
    "import pandas as pd\n",
    "import matplotlib.pyplot as plt\n",
    "import seaborn as sns\n",
    "%matplotlib inline\n",
    "\n",
    "from sklearn.datasets import load_breast_cancer\n",
    "from sklearn.model_selection import train_test_split\n",
    "from sklearn.metrics import confusion_matrix\n",
    "from sklearn.linear_model import LogisticRegression\n",
    "from sklearn.ensemble import RandomForestClassifier\n",
    "\n",
    "plt.style.use(\"ggplot\")"
   ]
  },
  {
   "cell_type": "code",
   "execution_count": 2,
   "metadata": {},
   "outputs": [],
   "source": [
    "bunch = load_breast_cancer()\n",
    "X = pd.DataFrame(bunch[\"data\"], columns = bunch[\"feature_names\"])\n",
    "y = np.logical_xor(bunch[\"target\"], \n",
    "                   np.random.RandomState(seed = 405).binomial(1, 0.8, X.shape[0]))\n",
    "\n",
    "X_train, X_test, y_train, y_test = train_test_split(X, y, test_size = 0.33, random_state = 42)"
   ]
  },
  {
   "cell_type": "code",
   "execution_count": 4,
   "metadata": {},
   "outputs": [],
   "source": [
    "#print(bunch[\"DESCR\"])"
   ]
  },
  {
   "cell_type": "markdown",
   "metadata": {},
   "source": [
    "## 2. Naive evaluation"
   ]
  },
  {
   "cell_type": "markdown",
   "metadata": {},
   "source": [
    "Let's fit logistic and random forest classifiers."
   ]
  },
  {
   "cell_type": "code",
   "execution_count": 5,
   "metadata": {},
   "outputs": [],
   "source": [
    "models = {\"logistic\" : LogisticRegression(solver = \"liblinear\"),\n",
    "          \"rf\" : RandomForestClassifier()}\n",
    "y_hat_test = {}\n",
    "for model_name, model in models.items():\n",
    "    model.fit(X_train, y_train)\n",
    "    y_hat_test[model_name] = model.predict(X_test)"
   ]
  },
  {
   "cell_type": "markdown",
   "metadata": {},
   "source": [
    "We want to evaluate the performance of models for two purposes\n",
    "1. Model validation (absolute performance of model)\n",
    "2. Model selection (relative performance of model)"
   ]
  },
  {
   "cell_type": "code",
   "execution_count": 6,
   "metadata": {},
   "outputs": [
    {
     "data": {
      "text/html": [
       "<div>\n",
       "<style scoped>\n",
       "    .dataframe tbody tr th:only-of-type {\n",
       "        vertical-align: middle;\n",
       "    }\n",
       "\n",
       "    .dataframe tbody tr th {\n",
       "        vertical-align: top;\n",
       "    }\n",
       "\n",
       "    .dataframe thead th {\n",
       "        text-align: right;\n",
       "    }\n",
       "</style>\n",
       "<table border=\"1\" class=\"dataframe\">\n",
       "  <thead>\n",
       "    <tr style=\"text-align: right;\">\n",
       "      <th></th>\n",
       "      <th>D=0</th>\n",
       "      <th>D=1</th>\n",
       "    </tr>\n",
       "  </thead>\n",
       "  <tbody>\n",
       "    <tr>\n",
       "      <th>R=0</th>\n",
       "      <td>90</td>\n",
       "      <td>16</td>\n",
       "    </tr>\n",
       "    <tr>\n",
       "      <th>R=1</th>\n",
       "      <td>24</td>\n",
       "      <td>58</td>\n",
       "    </tr>\n",
       "  </tbody>\n",
       "</table>\n",
       "</div>"
      ],
      "text/plain": [
       "     D=0  D=1\n",
       "R=0   90   16\n",
       "R=1   24   58"
      ]
     },
     "execution_count": 6,
     "metadata": {},
     "output_type": "execute_result"
    }
   ],
   "source": [
    "pd.DataFrame(confusion_matrix(y_test, y_hat_test[\"rf\"]),\n",
    "             columns = [\"D=0\", \"D=1\"],\n",
    "             index = [\"R=0\", \"R=1\"]\n",
    "            )"
   ]
  },
  {
   "cell_type": "code",
   "execution_count": 7,
   "metadata": {},
   "outputs": [
    {
     "data": {
      "text/html": [
       "<div>\n",
       "<style scoped>\n",
       "    .dataframe tbody tr th:only-of-type {\n",
       "        vertical-align: middle;\n",
       "    }\n",
       "\n",
       "    .dataframe tbody tr th {\n",
       "        vertical-align: top;\n",
       "    }\n",
       "\n",
       "    .dataframe thead th {\n",
       "        text-align: right;\n",
       "    }\n",
       "</style>\n",
       "<table border=\"1\" class=\"dataframe\">\n",
       "  <thead>\n",
       "    <tr style=\"text-align: right;\">\n",
       "      <th></th>\n",
       "      <th>D=0</th>\n",
       "      <th>D=1</th>\n",
       "    </tr>\n",
       "  </thead>\n",
       "  <tbody>\n",
       "    <tr>\n",
       "      <th>R=0</th>\n",
       "      <td>93</td>\n",
       "      <td>13</td>\n",
       "    </tr>\n",
       "    <tr>\n",
       "      <th>R=1</th>\n",
       "      <td>26</td>\n",
       "      <td>56</td>\n",
       "    </tr>\n",
       "  </tbody>\n",
       "</table>\n",
       "</div>"
      ],
      "text/plain": [
       "     D=0  D=1\n",
       "R=0   93   13\n",
       "R=1   26   56"
      ]
     },
     "execution_count": 7,
     "metadata": {},
     "output_type": "execute_result"
    }
   ],
   "source": [
    "pd.DataFrame(confusion_matrix(y_test, y_hat_test[\"logistic\"]),\n",
    "             columns = [\"D=0\", \"D=1\"],\n",
    "             index = [\"R=0\", \"R=1\"]\n",
    "            )"
   ]
  },
  {
   "cell_type": "markdown",
   "metadata": {},
   "source": [
    "## 3. Thresholds"
   ]
  },
  {
   "cell_type": "code",
   "execution_count": 8,
   "metadata": {},
   "outputs": [
    {
     "data": {
      "text/plain": [
       "array([False,  True,  True, False, False,  True,  True,  True,  True,\n",
       "       False, False,  True, False,  True, False,  True, False, False,\n",
       "       False,  True, False, False,  True, False, False, False, False,\n",
       "       False, False,  True, False, False, False, False, False, False,\n",
       "        True, False,  True, False, False,  True, False, False, False,\n",
       "       False, False, False, False, False,  True,  True, False, False,\n",
       "       False, False, False,  True,  True, False, False,  True,  True,\n",
       "       False, False, False,  True,  True, False, False,  True,  True,\n",
       "       False,  True,  True, False, False,  True, False, False,  True,\n",
       "       False,  True,  True,  True,  True,  True,  True, False, False,\n",
       "       False, False, False, False, False, False,  True,  True, False,\n",
       "        True,  True, False,  True,  True, False, False, False,  True,\n",
       "        True, False,  True, False,  True,  True, False,  True, False,\n",
       "       False, False,  True,  True, False, False,  True, False,  True,\n",
       "        True, False, False,  True,  True,  True, False, False, False,\n",
       "        True, False, False,  True,  True, False,  True, False, False,\n",
       "        True, False,  True,  True,  True, False,  True, False, False,\n",
       "       False, False,  True,  True,  True, False, False, False, False,\n",
       "       False, False,  True, False, False, False, False,  True, False,\n",
       "       False, False,  True, False, False, False, False, False, False,\n",
       "       False, False, False,  True,  True,  True,  True, False])"
      ]
     },
     "execution_count": 8,
     "metadata": {},
     "output_type": "execute_result"
    }
   ],
   "source": [
    "models[\"rf\"].predict(X_test)"
   ]
  },
  {
   "cell_type": "code",
   "execution_count": 11,
   "metadata": {},
   "outputs": [
    {
     "data": {
      "text/plain": [
       "array([0.09, 0.87, 0.94, 0.16, 0.1 , 0.69, 0.96, 0.87, 0.66, 0.26, 0.24,\n",
       "       0.94, 0.22, 0.8 , 0.42, 0.59, 0.2 , 0.29, 0.45, 0.79, 0.39, 0.1 ,\n",
       "       0.97, 0.32, 0.1 , 0.28, 0.26, 0.26, 0.02, 0.87, 0.15, 0.26, 0.38,\n",
       "       0.41, 0.26, 0.14, 0.55, 0.32, 0.93, 0.45, 0.07, 0.86, 0.06, 0.18,\n",
       "       0.44, 0.32, 0.24, 0.33, 0.16, 0.21, 0.7 , 0.9 , 0.3 , 0.48, 0.17,\n",
       "       0.25, 0.16, 0.76, 0.76, 0.2 , 0.04, 0.92, 0.84, 0.41, 0.18, 0.31,\n",
       "       0.94, 0.7 , 0.12, 0.11, 0.73, 0.98, 0.2 , 0.99, 0.55, 0.24, 0.29,\n",
       "       0.59, 0.28, 0.23, 0.92, 0.26, 0.53, 0.85, 0.67, 0.82, 0.67, 0.79,\n",
       "       0.31, 0.21, 0.1 , 0.3 , 0.47, 0.24, 0.16, 0.18, 0.55, 0.77, 0.1 ,\n",
       "       0.92, 0.84, 0.44, 0.93, 0.88, 0.16, 0.08, 0.19, 0.8 , 0.54, 0.27,\n",
       "       0.87, 0.09, 0.55, 0.72, 0.39, 0.7 , 0.3 , 0.23, 0.24, 0.85, 0.6 ,\n",
       "       0.05, 0.09, 0.85, 0.11, 0.76, 0.97, 0.17, 0.28, 0.91, 0.81, 0.75,\n",
       "       0.37, 0.08, 0.26, 0.91, 0.49, 0.17, 0.71, 0.75, 0.08, 0.78, 0.19,\n",
       "       0.41, 0.93, 0.16, 0.86, 0.66, 0.57, 0.32, 0.59, 0.27, 0.4 , 0.17,\n",
       "       0.29, 0.72, 0.79, 0.51, 0.14, 0.24, 0.44, 0.16, 0.28, 0.13, 0.53,\n",
       "       0.08, 0.29, 0.42, 0.38, 0.86, 0.48, 0.21, 0.22, 0.7 , 0.12, 0.33,\n",
       "       0.5 , 0.35, 0.15, 0.25, 0.28, 0.28, 0.15, 0.91, 0.88, 0.79, 0.68,\n",
       "       0.21])"
      ]
     },
     "execution_count": 11,
     "metadata": {},
     "output_type": "execute_result"
    }
   ],
   "source": [
    "models[\"rf\"].predict_proba(X_test)\n",
    "pred_probs = models[\"rf\"].predict_proba(X_test)[:,1]\n",
    "pred_probs.round(3)"
   ]
  },
  {
   "cell_type": "markdown",
   "metadata": {},
   "source": [
    "Predicted class is obtained by thresholding predicted (class 1) probability at 0.5"
   ]
  },
  {
   "cell_type": "code",
   "execution_count": 13,
   "metadata": {},
   "outputs": [
    {
     "data": {
      "text/plain": [
       "True"
      ]
     },
     "execution_count": 13,
     "metadata": {},
     "output_type": "execute_result"
    }
   ],
   "source": [
    "np.all((models[\"rf\"].predict_proba(X_test)[:,1] > 0.5) == models[\"rf\"].predict(X_test))"
   ]
  },
  {
   "cell_type": "code",
   "execution_count": 14,
   "metadata": {},
   "outputs": [
    {
     "data": {
      "text/html": [
       "<div>\n",
       "<style scoped>\n",
       "    .dataframe tbody tr th:only-of-type {\n",
       "        vertical-align: middle;\n",
       "    }\n",
       "\n",
       "    .dataframe tbody tr th {\n",
       "        vertical-align: top;\n",
       "    }\n",
       "\n",
       "    .dataframe thead th {\n",
       "        text-align: right;\n",
       "    }\n",
       "</style>\n",
       "<table border=\"1\" class=\"dataframe\">\n",
       "  <thead>\n",
       "    <tr style=\"text-align: right;\">\n",
       "      <th></th>\n",
       "      <th>D=0</th>\n",
       "      <th>D=1</th>\n",
       "    </tr>\n",
       "  </thead>\n",
       "  <tbody>\n",
       "    <tr>\n",
       "      <th>R=0</th>\n",
       "      <td>47</td>\n",
       "      <td>59</td>\n",
       "    </tr>\n",
       "    <tr>\n",
       "      <th>R=1</th>\n",
       "      <td>15</td>\n",
       "      <td>67</td>\n",
       "    </tr>\n",
       "  </tbody>\n",
       "</table>\n",
       "</div>"
      ],
      "text/plain": [
       "     D=0  D=1\n",
       "R=0   47   59\n",
       "R=1   15   67"
      ]
     },
     "execution_count": 14,
     "metadata": {},
     "output_type": "execute_result"
    }
   ],
   "source": [
    "threshold = 0.25\n",
    "y_preds = (models[\"rf\"].predict_proba(X_test)[:,1] > threshold).astype(int)\n",
    "pd.DataFrame(confusion_matrix(y_test, y_preds),\n",
    "             columns = [\"D=0\", \"D=1\"],\n",
    "             index = [\"R=0\", \"R=1\"]\n",
    "            )"
   ]
  },
  {
   "cell_type": "code",
   "execution_count": 17,
   "metadata": {},
   "outputs": [
    {
     "data": {
      "image/png": "[encoded data removed]",
      "text/plain": [
       "<Figure size 720x360 with 1 Axes>"
      ]
     },
     "metadata": {},
     "output_type": "display_data"
    }
   ],
   "source": [
    "plt.figure(figsize = (10,5))\n",
    "sns.stripplot(pred_probs, y_test, alpha = 0.8, order = [1,0], orient = \"h\")\n",
    "plt.axvline(threshold, c = \"k\", label = \"threshold\")\n",
    "plt.xlabel(\"Predicted class 1 probability\")\n",
    "plt.ylabel(\"True label\")\n",
    "plt.title(\"True class vs predicted class probability\")\n",
    "plt.legend()\n",
    "plt.show()"
   ]
  },
  {
   "cell_type": "code",
   "execution_count": 31,
   "metadata": {},
   "outputs": [
    {
     "data": {
      "image/png": "[encoded data removed]",
      "text/plain": [
       "<Figure size 720x360 with 1 Axes>"
      ]
     },
     "metadata": {},
     "output_type": "display_data"
    },
    {
     "data": {
      "text/html": [
       "<div>\n",
       "<style scoped>\n",
       "    .dataframe tbody tr th:only-of-type {\n",
       "        vertical-align: middle;\n",
       "    }\n",
       "\n",
       "    .dataframe tbody tr th {\n",
       "        vertical-align: top;\n",
       "    }\n",
       "\n",
       "    .dataframe thead th {\n",
       "        text-align: right;\n",
       "    }\n",
       "</style>\n",
       "<table border=\"1\" class=\"dataframe\">\n",
       "  <thead>\n",
       "    <tr style=\"text-align: right;\">\n",
       "      <th></th>\n",
       "      <th>D=0</th>\n",
       "      <th>D=1</th>\n",
       "    </tr>\n",
       "  </thead>\n",
       "  <tbody>\n",
       "    <tr>\n",
       "      <th>R=0</th>\n",
       "      <td>106</td>\n",
       "      <td>0</td>\n",
       "    </tr>\n",
       "    <tr>\n",
       "      <th>R=1</th>\n",
       "      <td>82</td>\n",
       "      <td>0</td>\n",
       "    </tr>\n",
       "  </tbody>\n",
       "</table>\n",
       "</div>"
      ],
      "text/plain": [
       "     D=0  D=1\n",
       "R=0  106    0\n",
       "R=1   82    0"
      ]
     },
     "execution_count": 31,
     "metadata": {},
     "output_type": "execute_result"
    }
   ],
   "source": [
    "threshold = 1\n",
    "y_preds = (models[\"rf\"].predict_proba(X_test)[:,1] > threshold).astype(int)\n",
    "\n",
    "plt.figure(figsize = (10,5))\n",
    "sns.stripplot(pred_probs, y_test, alpha = 0.8, order = [1,0], orient = \"h\")\n",
    "plt.axvline(threshold, c = \"k\", label = \"threshold\")\n",
    "plt.xlabel(\"Predited class 1 probability\")\n",
    "plt.ylabel(\"True label\")\n",
    "plt.title(\"True class vs predicted class probability\")\n",
    "plt.legend()\n",
    "plt.show()\n",
    "\n",
    "pd.DataFrame(confusion_matrix(y_test, y_preds),\n",
    "             columns = [\"D=0\", \"D=1\"],\n",
    "             index = [\"R=0\", \"R=1\"]\n",
    "            )"
   ]
  },
  {
   "cell_type": "markdown",
   "metadata": {},
   "source": [
    "## 4. ROC curve"
   ]
  },
  {
   "cell_type": "code",
   "execution_count": 32,
   "metadata": {},
   "outputs": [],
   "source": [
    "def get_tpr_fpr(y_test, pred_probs, threshold):\n",
    "    P = y_test.sum()\n",
    "    N = (1-y_test).sum()\n",
    "    preds = (pred_probs >= threshold).astype(int)\n",
    "    confusion_mat = confusion_matrix(y_test, preds)\n",
    "    TP = confusion_mat[1,1]\n",
    "    FP = confusion_mat[0,1]\n",
    "    TPR = TP / P\n",
    "    FPR = FP / N\n",
    "    \n",
    "    return TPR, FPR"
   ]
  },
  {
   "cell_type": "code",
   "execution_count": 33,
   "metadata": {},
   "outputs": [
    {
     "data": {
      "text/html": [
       "<div>\n",
       "<style scoped>\n",
       "    .dataframe tbody tr th:only-of-type {\n",
       "        vertical-align: middle;\n",
       "    }\n",
       "\n",
       "    .dataframe tbody tr th {\n",
       "        vertical-align: top;\n",
       "    }\n",
       "\n",
       "    .dataframe thead th {\n",
       "        text-align: right;\n",
       "    }\n",
       "</style>\n",
       "<table border=\"1\" class=\"dataframe\">\n",
       "  <thead>\n",
       "    <tr style=\"text-align: right;\">\n",
       "      <th></th>\n",
       "      <th>threshold</th>\n",
       "      <th>TPR</th>\n",
       "      <th>FPR</th>\n",
       "    </tr>\n",
       "  </thead>\n",
       "  <tbody>\n",
       "    <tr>\n",
       "      <th>0</th>\n",
       "      <td>0.0</td>\n",
       "      <td>1.000000</td>\n",
       "      <td>1.000000</td>\n",
       "    </tr>\n",
       "    <tr>\n",
       "      <th>1</th>\n",
       "      <td>0.2</td>\n",
       "      <td>0.878049</td>\n",
       "      <td>0.688679</td>\n",
       "    </tr>\n",
       "    <tr>\n",
       "      <th>2</th>\n",
       "      <td>0.4</td>\n",
       "      <td>0.731707</td>\n",
       "      <td>0.283019</td>\n",
       "    </tr>\n",
       "    <tr>\n",
       "      <th>3</th>\n",
       "      <td>0.6</td>\n",
       "      <td>0.634146</td>\n",
       "      <td>0.094340</td>\n",
       "    </tr>\n",
       "    <tr>\n",
       "      <th>4</th>\n",
       "      <td>0.8</td>\n",
       "      <td>0.402439</td>\n",
       "      <td>0.028302</td>\n",
       "    </tr>\n",
       "    <tr>\n",
       "      <th>5</th>\n",
       "      <td>1.0</td>\n",
       "      <td>0.000000</td>\n",
       "      <td>0.000000</td>\n",
       "    </tr>\n",
       "  </tbody>\n",
       "</table>\n",
       "</div>"
      ],
      "text/plain": [
       "   threshold       TPR       FPR\n",
       "0        0.0  1.000000  1.000000\n",
       "1        0.2  0.878049  0.688679\n",
       "2        0.4  0.731707  0.283019\n",
       "3        0.6  0.634146  0.094340\n",
       "4        0.8  0.402439  0.028302\n",
       "5        1.0  0.000000  0.000000"
      ]
     },
     "execution_count": 33,
     "metadata": {},
     "output_type": "execute_result"
    }
   ],
   "source": [
    "results_df = pd.DataFrame(columns = [\"threshold\", \"TPR\", \"FPR\"])\n",
    "thresholds = [0, 0.2, 0.4, 0.6, 0.8, 1]\n",
    "for threshold in thresholds:\n",
    "    TPR, FPR = get_tpr_fpr(y_test, pred_probs, threshold)\n",
    "    results_df = results_df.append({\"threshold\" : threshold,\n",
    "                                    \"TPR\" : TPR,\n",
    "                                    \"FPR\" : FPR}, \n",
    "                                   ignore_index = True)\n",
    "results_df"
   ]
  },
  {
   "cell_type": "code",
   "execution_count": 35,
   "metadata": {},
   "outputs": [
    {
     "data": {
      "image/png": "[encoded data removed]",
      "text/plain": [
       "<Figure size 576x576 with 1 Axes>"
      ]
     },
     "metadata": {},
     "output_type": "display_data"
    }
   ],
   "source": [
    "plt.figure(figsize = (8,8))\n",
    "plt.scatter(results_df[\"FPR\"], results_df[\"TPR\"])\n",
    "plt.plot(results_df[\"FPR\"], results_df[\"TPR\"])\n",
    "plt.xlabel(\"FPR\")\n",
    "plt.ylabel(\"TPR\")\n",
    "plt.xlim([-0.05, 1.05])\n",
    "plt.ylim([-0.05, 1.05])\n",
    "plt.title(\"TPR vs FPR for RF model\")\n",
    "plt.show()"
   ]
  },
  {
   "cell_type": "markdown",
   "metadata": {},
   "source": [
    "### 4.2. Sklearn"
   ]
  },
  {
   "cell_type": "code",
   "execution_count": 36,
   "metadata": {},
   "outputs": [],
   "source": [
    "from sklearn.metrics import roc_curve, roc_auc_score"
   ]
  },
  {
   "cell_type": "code",
   "execution_count": 38,
   "metadata": {},
   "outputs": [],
   "source": [
    "fpr, tpr, _ = roc_curve(y_test, pred_probs)"
   ]
  },
  {
   "cell_type": "code",
   "execution_count": 39,
   "metadata": {},
   "outputs": [
    {
     "data": {
      "image/png": "[encoded data removed]",
      "text/plain": [
       "<Figure size 576x576 with 1 Axes>"
      ]
     },
     "metadata": {},
     "output_type": "display_data"
    }
   ],
   "source": [
    "plt.figure(figsize = (8,8))\n",
    "plt.plot(fpr, tpr)\n",
    "#plt.scatter(results_df[\"FPR\"], results_df[\"TPR\"])\n",
    "plt.xlabel(\"FPR\")\n",
    "plt.ylabel(\"TPR\")\n",
    "plt.xlim([-0.05, 1.05])\n",
    "plt.ylim([-0.05, 1.05])\n",
    "plt.title(\"ROC curve (FPR vs TPR) for RF model\")\n",
    "plt.show()"
   ]
  },
  {
   "cell_type": "code",
   "execution_count": 40,
   "metadata": {},
   "outputs": [
    {
     "data": {
      "text/plain": [
       "0.7861826967326276"
      ]
     },
     "execution_count": 40,
     "metadata": {},
     "output_type": "execute_result"
    }
   ],
   "source": [
    "roc_auc_score(y_test, models[\"rf\"].predict_proba(X_test)[:,1])"
   ]
  },
  {
   "cell_type": "code",
   "execution_count": 41,
   "metadata": {},
   "outputs": [
    {
     "data": {
      "text/plain": [
       "0.8312241141279337"
      ]
     },
     "execution_count": 41,
     "metadata": {},
     "output_type": "execute_result"
    }
   ],
   "source": [
    "roc_auc_score(y_test, models[\"logistic\"].predict_proba(X_test)[:,1])"
   ]
  },
  {
   "cell_type": "markdown",
   "metadata": {},
   "source": [
    "## 5. Precision-recall curve"
   ]
  },
  {
   "cell_type": "code",
   "execution_count": 42,
   "metadata": {},
   "outputs": [],
   "source": [
    "from sklearn.metrics import precision_recall_curve, auc"
   ]
  },
  {
   "cell_type": "code",
   "execution_count": 43,
   "metadata": {},
   "outputs": [],
   "source": [
    "prec, tpr, _ = precision_recall_curve(y_test, models[\"logistic\"].predict_proba(X_test)[:,1])"
   ]
  },
  {
   "cell_type": "code",
   "execution_count": 44,
   "metadata": {},
   "outputs": [
    {
     "data": {
      "image/png": "[encoded data removed]",
      "text/plain": [
       "<Figure size 576x576 with 1 Axes>"
      ]
     },
     "metadata": {},
     "output_type": "display_data"
    }
   ],
   "source": [
    "plt.figure(figsize = (8,8))\n",
    "plt.plot(tpr, prec)\n",
    "#plt.scatter(results_df[\"FPR\"], results_df[\"TPR\"])\n",
    "plt.xlabel(\"Recall (TPR)\")\n",
    "plt.ylabel(\"Precision\")\n",
    "plt.xlim([-0.05, 1.05])\n",
    "plt.ylim([-0.05, 1.05])\n",
    "plt.title(\"Precision vs Recall (TPR) for RF model\")\n",
    "plt.show()"
   ]
  },
  {
   "cell_type": "code",
   "execution_count": null,
   "metadata": {},
   "outputs": [],
   "source": []
  }
 ],
 "metadata": {
  "kernelspec": {
   "display_name": "Python 3",
   "language": "python",
   "name": "python3"
  },
  "language_info": {
   "codemirror_mode": {
    "name": "ipython",
    "version": 3
   },
   "file_extension": ".py",
   "mimetype": "text/x-python",
   "name": "python",
   "nbconvert_exporter": "python",
   "pygments_lexer": "ipython3",
   "version": "3.7.7"
  }
 },
 "nbformat": 4,
 "nbformat_minor": 4
}
