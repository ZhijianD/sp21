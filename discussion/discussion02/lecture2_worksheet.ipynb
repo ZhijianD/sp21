{
 "cells": [
  {
   "cell_type": "markdown",
   "metadata": {},
   "source": [
    "# Lecture 1 worksheet"
   ]
  },
  {
   "cell_type": "markdown",
   "metadata": {},
   "source": [
    "### Problem 1 (Definitions)\n",
    "\n",
    "Indicate whether each of the following statements is True or False.\n",
    "\n",
    "1. FPR = 1 $-$ TPR, where FPR and TPR are the false positive rate and true positive rate respectively"
   ]
  },
  {
   "cell_type": "markdown",
   "metadata": {},
   "source": [
    "**Answer:**"
   ]
  },
  {
   "cell_type": "markdown",
   "metadata": {},
   "source": [
    "2. False discovery proportion can be thought of as a conditional probability that the reality is null (0), given that we made a discovery (1)  "
   ]
  },
  {
   "cell_type": "markdown",
   "metadata": {},
   "source": [
    "**Answer:**"
   ]
  },
  {
   "cell_type": "markdown",
   "metadata": {},
   "source": [
    "3. Define the *false omission rate (FOR)* to be $\\frac{\\text{#FN}}{\\text{#FN}+\\text{#TN}}$. This is a column-wise rate.  "
   ]
  },
  {
   "cell_type": "markdown",
   "metadata": {},
   "source": [
    "**Answer:**"
   ]
  },
  {
   "cell_type": "markdown",
   "metadata": {},
   "source": [
    "*Hint: [Wikipedia](https://en.wikipedia.org/wiki/Sensitivity_and_specificity) offers a good resource for the definitions.*"
   ]
  },
  {
   "cell_type": "markdown",
   "metadata": {},
   "source": [
    "### Problem 2 (COVID-19 testing)\n",
    "\n",
    "The [Abbott 15-minute COVID test](https://abbott.mediaroom.com/2020-08-26-Abbotts-Fast-5-15-Minute-Easy-to-Use-COVID-19-Antigen-Test-Receives-FDA-Emergency-Use-Authorization-Mobile-App-Displays-Test-Results-to-Help-Our-Return-to-Daily-Life-Ramping-Production-to-50-Million-Tests-a-Month) has a sensitivity of 97.1% and a specificity of 98.5%.\n",
    "\n",
    "1. In Alameda county (which includes Berkeley), the current cumulative rate  of COVID cases (as of 01/17/2021) is reported to be [4,032 per 100,000 people](https://www.nytimes.com/interactive/2020/us/coronavirus-us-cases.html#states). Assuming this is the true prevalence rate of the disease, what would be the false discovery proportion for tests conducted now?"
   ]
  },
  {
   "cell_type": "markdown",
   "metadata": {},
   "source": [
    "**Answer:**"
   ]
  },
  {
   "cell_type": "markdown",
   "metadata": {},
   "source": [
    "2. New COVID cases are those that have been reported in the last 7 days. The current rate of new COVID cases (as of 01/17/2021) is reported to be [387 per 100,000 people](https://github.com/nytimes/covid-19-data). Assuming this is the true prevalence rate of the disease, what would be the false discovery proportion for tests conducted now?"
   ]
  },
  {
   "cell_type": "markdown",
   "metadata": {},
   "source": [
    "**Answer:**"
   ]
  },
  {
   "cell_type": "markdown",
   "metadata": {},
   "source": [
    "3. Explain in one sentence of plain English and no math why your answers for parts 1 and 2 of this problem are different."
   ]
  },
  {
   "cell_type": "markdown",
   "metadata": {},
   "source": [
    "**Answer:**"
   ]
  },
  {
   "cell_type": "markdown",
   "metadata": {},
   "source": [
    "4. Which number do you think is closer to the true prevalence of COVID? Why may either or both of these numbers be bad estimates?"
   ]
  },
  {
   "cell_type": "markdown",
   "metadata": {},
   "source": [
    "**Answer:**"
   ]
  },
  {
   "cell_type": "markdown",
   "metadata": {},
   "source": [
    "5. (**challenge**) Apart from accuracy of our estimate for prevalence, what other assumptions are we making when we compute FDP in parts 1 and 2?"
   ]
  },
  {
   "cell_type": "markdown",
   "metadata": {},
   "source": [
    "**Answer:**"
   ]
  },
  {
   "cell_type": "markdown",
   "metadata": {},
   "source": [
    "### Problem 3. \n",
    "\n",
    "Can you think of examples where the False Omission Rate (FOR) is more important than the False Discovery Rate (FDR)? When the FDR is more important the FOR?"
   ]
  },
  {
   "cell_type": "markdown",
   "metadata": {},
   "source": [
    "**Answer:**"
   ]
  }
 ],
 "metadata": {
  "kernelspec": {
   "display_name": "Python 3",
   "language": "python",
   "name": "python3"
  },
  "language_info": {
   "codemirror_mode": {
    "name": "ipython",
    "version": 3
   },
   "file_extension": ".py",
   "mimetype": "text/x-python",
   "name": "python",
   "nbconvert_exporter": "python",
   "pygments_lexer": "ipython3",
   "version": "3.7.7"
  }
 },
 "nbformat": 4,
 "nbformat_minor": 4
}
