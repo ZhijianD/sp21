{
 "cells": [
  {
   "cell_type": "markdown",
   "metadata": {},
   "source": [
    "# Lecture 2 worksheet solutions"
   ]
  },
  {
   "cell_type": "markdown",
   "metadata": {},
   "source": [
    "### Problem 1 (Definitions)\n",
    "\n",
    "Indicate whether each of the following statements is True or False.\n",
    "\n",
    "1. FPR = 1 $-$ TPR, where FPR and TPR are the false positive rate and true positive rate respectively"
   ]
  },
  {
   "cell_type": "markdown",
   "metadata": {},
   "source": [
    "**Answer:** False. Recall the definitions of TP, FP, TN and FN as follows:\n",
    "\n",
    "|       | D = 0 | D = 1 |\n",
    "|  ---  |  ---- |  ---  |\n",
    "| R = 0 | TN    | FP    |\n",
    "| R = 1 | FN    | TP    |\n",
    "\n",
    "FPR = $\\frac{\\text{#FP}}{\\text{#TN}+\\text{#FP}}$, and so relates quantities in the top row of the reality-decision table.\n",
    "\n",
    "On the other hand, TPR = $\\frac{\\text{#TP}}{\\text{#FN}+\\text{#TP}}$, and so relates quantities in the bottom row of the reality-decision table."
   ]
  },
  {
   "cell_type": "markdown",
   "metadata": {},
   "source": [
    "2. False discovery proportion can be thought of as a conditional probability that the reality is null (0), given that we made a discovery (1)  "
   ]
  },
  {
   "cell_type": "markdown",
   "metadata": {},
   "source": [
    "**Answer:** True. Denote the counts for TP, FP, TN and FN as follows:\n",
    "\n",
    "|       | D = 0 | D = 1 |\n",
    "|  ---  |  ---- |  ---  |\n",
    "| R = 0 | $n_{00}$ | $n_{01}$ |\n",
    "| R = 1 | $n_{10}$ | $n_{11}$ |\n",
    "\n",
    "Then FDP = $\\frac{n_{01}}{n_{01}+n_{11}}$. To make this into a conditional probability, we draw a random sample from the finite population of $n_{00} + n_{01} + n_{10} + n_{11}$ individuals. Then\n",
    "\n",
    "$$\\mathbb{P}\\{D=1\\} = \\frac{n_{01}+n_{11}}{n_{00} + n_{01} + n_{10} + n_{11}}$$\n",
    "\n",
    "$$\\mathbb{P}\\{D=1, R = 0\\} = \\frac{n_{01}}{n_{00} + n_{01} + n_{10} + n_{11}}$$\n",
    "\n",
    "so that\n",
    "\n",
    "$$\\mathbb{P}\\{D=1 | R = 0\\} = \\frac{n_{01}}{n_{01} + n_{11}}.$$\n",
    "\n",
    "Another way to see this is that we condition on the sample being drawn from the right column (the event $\\{D=1\\}$), and ask for the probability of lying in the top right cell (the event $\\{D=1,R=0\\}$."
   ]
  },
  {
   "cell_type": "markdown",
   "metadata": {},
   "source": [
    "3. Define the *false omission rate (FOR)* to be $\\frac{\\text{#FN}}{\\text{#FN}+\\text{#TN}}$. This is a column-wise rate.  "
   ]
  },
  {
   "cell_type": "markdown",
   "metadata": {},
   "source": [
    "**Answer:** True. This relates quantities in the left column."
   ]
  },
  {
   "cell_type": "markdown",
   "metadata": {},
   "source": [
    "*Hint: [Wikipedia](https://en.wikipedia.org/wiki/Sensitivity_and_specificity) offers a good resource for the definitions.*"
   ]
  },
  {
   "cell_type": "markdown",
   "metadata": {},
   "source": [
    "### Problem 2 (COVID-19 testing)\n",
    "\n",
    "The [Abbott 15-minute COVID test](https://abbott.mediaroom.com/2020-08-26-Abbotts-Fast-5-15-Minute-Easy-to-Use-COVID-19-Antigen-Test-Receives-FDA-Emergency-Use-Authorization-Mobile-App-Displays-Test-Results-to-Help-Our-Return-to-Daily-Life-Ramping-Production-to-50-Million-Tests-a-Month) has a sensitivity of 97.1% and a specificity of 98.5%.\n",
    "\n",
    "1. In Alameda county (which includes Berkeley), the current cumulative rate  of COVID cases (as of 01/17/2021) is reported to be [4,032 per 100,000 people](https://www.nytimes.com/interactive/2020/us/coronavirus-us-cases.html#states). Assuming this is the true prevalence rate of the disease, what would be the false discovery proportion for tests conducted now?"
   ]
  },
  {
   "cell_type": "markdown",
   "metadata": {},
   "source": [
    "**Answer:** Denote the prevalence $\\mathbb{P}\\{R=1\\}$ by $\\pi$. We have $\\pi = 4032/100000$. Using Bayes' rule, we get\n",
    "\n",
    "\\begin{align}\n",
    "\\mathbb{P}\\{R=0|D=1\\} & = \\frac{\\mathbb{P}\\{D=1|R=0\\}\\mathbb{P}\\{R=0\\}}{\\mathbb{P}\\{D=1\\}} \\\\\n",
    "& = \\frac{\\mathbb{P}\\{D=1|R=0\\}\\mathbb{P}\\{R=0\\}}{\\mathbb{P}\\{D=1|R=0\\}\\mathbb{P}\\{R=0\\} + \\mathbb{P}\\{D=1|R=1\\}\\mathbb{P}\\{R=1\\}} \\\\\n",
    "& = \\frac{(1-\\text{specificity})\\cdot (1-\\pi)}{(1-\\text{specificity})\\cdot (1-\\pi) + \\text{sensitivity}\\cdot \\pi} \\\\\n",
    "& = 0.269\n",
    "\\end{align}"
   ]
  },
  {
   "cell_type": "code",
   "execution_count": 8,
   "metadata": {},
   "outputs": [
    {
     "data": {
      "text/plain": [
       "0.26883841009735215"
      ]
     },
     "execution_count": 8,
     "metadata": {},
     "output_type": "execute_result"
    }
   ],
   "source": [
    "pi = 4032/100000\n",
    "sensitivity = 0.971\n",
    "specificity = 0.985\n",
    "(1-specificity) * (1-pi) / ((1-specificity) * (1-pi) + sensitivity * pi)"
   ]
  },
  {
   "cell_type": "markdown",
   "metadata": {},
   "source": [
    "2. New COVID cases are those that have been reported in the last 7 days. The current rate of new COVID cases (as of 01/17/2021) is reported to be [387 per 100,000 people](https://github.com/nytimes/covid-19-data). Assuming this is the true prevalence rate of the disease, what would be the false discovery proportion for tests conducted now?"
   ]
  },
  {
   "cell_type": "markdown",
   "metadata": {},
   "source": [
    "**Answer:** We now have $\\pi = 387/100000$, but all other quantities remain the same."
   ]
  },
  {
   "cell_type": "code",
   "execution_count": 7,
   "metadata": {},
   "outputs": [
    {
     "data": {
      "text/plain": [
       "0.7990467236942587"
      ]
     },
     "execution_count": 7,
     "metadata": {},
     "output_type": "execute_result"
    }
   ],
   "source": [
    "pi = 387/100000\n",
    "sensitivity = 0.971\n",
    "specificity = 0.985\n",
    "(1-specificity) * (1-pi) / ((1-specificity) * (1-pi) + sensitivity * pi)"
   ]
  },
  {
   "cell_type": "markdown",
   "metadata": {},
   "source": [
    "3. Explain in one sentence of plain English and no math why your answers for parts 1 and 2 of this problem are different."
   ]
  },
  {
   "cell_type": "markdown",
   "metadata": {},
   "source": [
    "**Answer:** A lower prevalence means a fewer number of true positives, so FDR is higher."
   ]
  },
  {
   "cell_type": "markdown",
   "metadata": {},
   "source": [
    "4. Which number do you think is closer to the true prevalence of COVID? Why may either or both of these numbers be bad estimates?"
   ]
  },
  {
   "cell_type": "markdown",
   "metadata": {},
   "source": [
    "**Answer:** We expect the 2nd number to be closer, because most of the cumulative cases would have recovered by now. On the other hand, the time it takes to become COVID free after testing positive varies from patient to patient, so the new case count likely underestimates prevalence for this reason. Both numbers count reported cases, and so do not account for individuals who get infected but never get tested."
   ]
  },
  {
   "cell_type": "markdown",
   "metadata": {},
   "source": [
    "5. (**challenge**) Apart from accuracy of our estimate for prevalence, what other assumptions are we making when we compute FDP in parts 1 and 2?"
   ]
  },
  {
   "cell_type": "markdown",
   "metadata": {},
   "source": [
    "**Answer:** We assume that the test is performed on an individual drawn uniformly at random from the entire population in Alameda county."
   ]
  },
  {
   "cell_type": "markdown",
   "metadata": {},
   "source": [
    "### Problem 3. (FDP vs FOR)\n",
    "\n",
    "Can you think of examples where the False Omission Rate (FOR) is more important than the False Discovery Proportion (FDP)? When the FDP is more important the FOR? Explain your answers."
   ]
  },
  {
   "cell_type": "markdown",
   "metadata": {},
   "source": [
    "**Answer:** FOR is more important in cases where it is more costly to have a false negative. This includes COVID diagnoses, because a false negative means that the infected patients may continue being in contact with other people and so spreading the disease. FDP is more important in cases where it is more costly to have a false positive. This applies to scientific investigations, where it is expensive to run experiments to test out hypotheses suggested by statistical analyses."
   ]
  }
 ],
 "metadata": {
  "kernelspec": {
   "display_name": "Python 3",
   "language": "python",
   "name": "python3"
  },
  "language_info": {
   "codemirror_mode": {
    "name": "ipython",
    "version": 3
   },
   "file_extension": ".py",
   "mimetype": "text/x-python",
   "name": "python",
   "nbconvert_exporter": "python",
   "pygments_lexer": "ipython3",
   "version": "3.7.7"
  }
 },
 "nbformat": 4,
 "nbformat_minor": 4
}
