{
 "cells": [
  {
   "cell_type": "markdown",
   "metadata": {},
   "source": [
    "# Lecture 3 worksheet"
   ]
  },
  {
   "cell_type": "markdown",
   "metadata": {},
   "source": [
    "### Problem 1 (True/False)\n",
    "\n",
    "Indicate whether each of the following statements is True or False.\n",
    "\n",
    "1. Only continuous random variables can be converted into $p$-values."
   ]
  },
  {
   "cell_type": "markdown",
   "metadata": {},
   "source": [
    "**Answer:**"
   ]
  },
  {
   "cell_type": "markdown",
   "metadata": {},
   "source": [
    "2. The family-wise error rate (FWER) is always larger than or equal to the false discovery rate."
   ]
  },
  {
   "cell_type": "markdown",
   "metadata": {},
   "source": [
    "**Answer:**"
   ]
  },
  {
   "cell_type": "markdown",
   "metadata": {},
   "source": [
    "3. The Benjamini-Hochberg procedure controls the FWER."
   ]
  },
  {
   "cell_type": "markdown",
   "metadata": {},
   "source": [
    "**Answer:**"
   ]
  },
  {
   "cell_type": "markdown",
   "metadata": {},
   "source": [
    "4. The Benjamini-Hochberg procedure requires the null $p$-values to be independent."
   ]
  },
  {
   "cell_type": "markdown",
   "metadata": {},
   "source": [
    "### Problem 2 (Bonferroni method and union bound)\n",
    "\n",
    "1. Explain in words what the family-wise error rate (FWER) is."
   ]
  },
  {
   "cell_type": "markdown",
   "metadata": {},
   "source": [
    "**Answer:**"
   ]
  },
  {
   "cell_type": "markdown",
   "metadata": {},
   "source": [
    "2. The [Bonferroni method](https://youtu.be/NHRNAjLJi0E?t=100) makes use of the [union bound](https://en.wikipedia.org/wiki/Boole%27s_inequality) to bound the probability of a union of events, $E_1,E_2,\\ldots E_m$. Under what conditions on the $E_i$’s is this inequality an equality?"
   ]
  },
  {
   "cell_type": "markdown",
   "metadata": {},
   "source": [
    "**Answer:**"
   ]
  },
  {
   "cell_type": "markdown",
   "metadata": {},
   "source": [
    "3. Assume $E_i = p$ for $i=1,\\ldots,m$. What conditions on the $E_i$'s make this bound as loose as possible? In other words, when is $\\sum_{i=1}^m \\mathbb{P}(E_i) - \\mathbb{P}(\\cup_{i=1}^m E_i)$ maximized? \n"
   ]
  },
  {
   "cell_type": "markdown",
   "metadata": {},
   "source": [
    "**Answer:**"
   ]
  },
  {
   "cell_type": "markdown",
   "metadata": {},
   "source": [
    "### Problem 3 (optional, Implementing Bonferroni and Benjamini-Hochberg)"
   ]
  },
  {
   "cell_type": "markdown",
   "metadata": {},
   "source": [
    "Suppose that we are given 8 $p$-values: 0.013, 0.08, 0.11, 0.027, 0.05, 0.17, 0.009, 0.026. This exercise will guide you in implementing the two procedures described in the lecture."
   ]
  },
  {
   "cell_type": "markdown",
   "metadata": {},
   "source": [
    "1. Suppose we desire a FWER of 0.05. What is the Bonferroni threshold?"
   ]
  },
  {
   "cell_type": "markdown",
   "metadata": {},
   "source": [
    "**Answer:**"
   ]
  },
  {
   "cell_type": "markdown",
   "metadata": {},
   "source": [
    "2. How many hypotheses are rejected if we apply Bonferroni?"
   ]
  },
  {
   "cell_type": "markdown",
   "metadata": {},
   "source": [
    "**Answer:**"
   ]
  },
  {
   "cell_type": "markdown",
   "metadata": {},
   "source": [
    "3. Fill in the following function that implements the BH procedure"
   ]
  },
  {
   "cell_type": "code",
   "execution_count": null,
   "metadata": {},
   "outputs": [],
   "source": [
    "import numpy as np\n",
    "import matplotlib.pyplot as plt\n",
    "\n",
    "%matplotlib inline\n",
    "plt.style.use(\"ggplot\")\n",
    "\n",
    "def apply_BH(p_values, alpha):\n",
    "    \"\"\"\n",
    "    Returns the number of rejected hypotheses.\n",
    "    \n",
    "    \"\"\"\n",
    "    \n",
    "    n = len(p_values)\n",
    "    sorted_p_vals = np.sorted(p_values)\n",
    "    comparison_vals = # To do\n",
    "    comparisons = sorted_p_vals <= comparison_vals\n",
    "    # max_k is the maximum index of a sorted p-value lying below the threshold\n",
    "    # Hint: Be careful of zero-indexing! p-values are indexed starting from 1\n",
    "    max_k = # To do\n",
    "    \n",
    "## ---- Uncomment in order to see BH plot -----    \n",
    "#     plt.figure(figsize = (5,5))\n",
    "#     plt.xlim([0,m])\n",
    "#     plt.ylim([0,0.1])\n",
    "#     plt.plot([0, m], [0, alpha])\n",
    "#     plt.scatter(np.arange(m)+1, sorted_p_vals, c = \"k\", label = \"Accepted p-values\")\n",
    "#     plt.scatter((np.arange(m)+1)[:max_k], sorted_p_vals[:max_k], c = \"b\", label = \"Rejected p-values\")\n",
    "#     plt.legend()\n",
    "#     plt.show()\n",
    "    \n",
    "    return max_k"
   ]
  },
  {
   "cell_type": "markdown",
   "metadata": {},
   "source": [
    "4. Apply the function to determine how many hypotheses are rejected if we apply BH with $\\alpha = 0.05$ and $\\alpha = 0.01$."
   ]
  },
  {
   "cell_type": "markdown",
   "metadata": {},
   "source": [
    "**Answer:**"
   ]
  }
 ],
 "metadata": {
  "kernelspec": {
   "display_name": "Python 3",
   "language": "python",
   "name": "python3"
  },
  "language_info": {
   "codemirror_mode": {
    "name": "ipython",
    "version": 3
   },
   "file_extension": ".py",
   "mimetype": "text/x-python",
   "name": "python",
   "nbconvert_exporter": "python",
   "pygments_lexer": "ipython3",
   "version": "3.7.7"
  }
 },
 "nbformat": 4,
 "nbformat_minor": 4
}
