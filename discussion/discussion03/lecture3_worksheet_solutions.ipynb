{
 "cells": [
  {
   "cell_type": "markdown",
   "metadata": {},
   "source": [
    "# Lecture 3 worksheet solutions"
   ]
  },
  {
   "cell_type": "markdown",
   "metadata": {},
   "source": [
    "### Problem 1 (True/False)\n",
    "\n",
    "Indicate whether each of the following statements is True or False.\n",
    "\n",
    "1. Only continuous random variables can be converted into $p$-values."
   ]
  },
  {
   "cell_type": "markdown",
   "metadata": {},
   "source": [
    "**Answer:** False. Any distribution on the real line can be converted into $p$-values. Recall the definition $P = F(X)$, where $F$ is the CDF for $X$."
   ]
  },
  {
   "cell_type": "markdown",
   "metadata": {},
   "source": [
    "2. The family-wise error rate (FWER) is always larger than or equal to the false discovery rate."
   ]
  },
  {
   "cell_type": "markdown",
   "metadata": {},
   "source": [
    "**Answer:** True.\n",
    "\n",
    "Let $n_{01}$ denote the number of false positives, and $n_{11}$ denote the number of true positives. Note that these are now *random variables* rather than fixed numbers, as was the case in Lecture 2. Then $\\text{FWER} = \\mathbb{P}\\{n_{01} \\geq 1\\}$ and $\\text{FDR} = \\mathbb{E}\\left\\{\\frac{n_{01}}{n_{01}+n_{11}}\\right\\}$.\n",
    "\n",
    "Since $\\frac{n_{01}}{n_{01}+n_{11}} \\leq 1\\left\\{\\frac{n_{01}}{n_{01}+n_{11}} > 0\\right\\} \\leq 1\\{n_{01} \\geq 1\\}$, we can take expectations to get $\\text{FWER} \\geq \\text{FDR}$."
   ]
  },
  {
   "cell_type": "markdown",
   "metadata": {},
   "source": [
    "3. The Benjamini-Hochberg procedure controls the FWER."
   ]
  },
  {
   "cell_type": "markdown",
   "metadata": {},
   "source": [
    "**Answer:** False. It controls the FDR."
   ]
  },
  {
   "cell_type": "markdown",
   "metadata": {},
   "source": [
    "4. The Benjamini-Hochberg procedure requires the null $p$-values to be independent."
   ]
  },
  {
   "cell_type": "markdown",
   "metadata": {},
   "source": [
    "**Answer:** True. The FDR control does not hold if we do not assume the null $p$-values to be independent. The non-nulls are allowed to have arbitrary dependence structure."
   ]
  },
  {
   "cell_type": "markdown",
   "metadata": {},
   "source": [
    "### Problem 2 (Bonferroni method and union bound)\n",
    "\n",
    "1. Explain in words what the family-wise error rate (FWER) is."
   ]
  },
  {
   "cell_type": "markdown",
   "metadata": {},
   "source": [
    "**Answer:** It is the probability that there is at least one false positive."
   ]
  },
  {
   "cell_type": "markdown",
   "metadata": {},
   "source": [
    "2. The [Bonferroni method](https://youtu.be/NHRNAjLJi0E?t=100) makes use of the [union bound](https://en.wikipedia.org/wiki/Boole%27s_inequality) to bound the probability of a union of events, $E_1,E_2,\\ldots E_m$. Under what conditions on the $E_i$’s is this inequality an equality, in other words, when does the following hold:\n",
    "$$\n",
    "\\sum_{i=1}^m \\mathbb{P}(E_i) = \\mathbb{P}(\\cup_{i=1}^m E_i).\n",
    "$$"
   ]
  },
  {
   "cell_type": "markdown",
   "metadata": {},
   "source": [
    "**Answer:** This holds when the $E_i$ 's are disjoint events."
   ]
  },
  {
   "cell_type": "markdown",
   "metadata": {},
   "source": [
    "3. Assume $P(E_i) = p$ for $i=1,\\ldots,m$. What conditions on the $E_i$'s make this bound as loose as possible? In other words, when is $\\sum_{i=1}^m \\mathbb{P}(E_i) - \\mathbb{P}(\\cup_{i=1}^m E_i)$ maximized? "
   ]
  },
  {
   "cell_type": "markdown",
   "metadata": {},
   "source": [
    "**Answer:** This quantity is maximized when all $E_i$'s are the same event, i.e. $E_i = E$ for $i=1,\\ldots,m$. Then $\\sum_{i=1}^m \\mathbb{P}(E_i) = mp$, but $\\mathbb{P}(\\cup_{i=1}^m E_i) = p$."
   ]
  },
  {
   "cell_type": "markdown",
   "metadata": {},
   "source": [
    "### Problem 3 (Implementing Bonferroni and Benjamini-Hochberg)"
   ]
  },
  {
   "cell_type": "markdown",
   "metadata": {},
   "source": [
    "Suppose that we are given 8 $p$-values: 0.013, 0.08, 0.0004, 0.027, 0.05, 0.17, 0.009, 0.026. This exercise will guide you in implementing the two procedures described in the lecture."
   ]
  },
  {
   "cell_type": "markdown",
   "metadata": {},
   "source": [
    "1. Suppose we desire a FWER of 0.05. What is the Bonferroni threshold?"
   ]
  },
  {
   "cell_type": "markdown",
   "metadata": {},
   "source": [
    "**Answer:**"
   ]
  },
  {
   "cell_type": "code",
   "execution_count": 1,
   "metadata": {},
   "outputs": [
    {
     "data": {
      "text/plain": [
       "0.00625"
      ]
     },
     "execution_count": 1,
     "metadata": {},
     "output_type": "execute_result"
    }
   ],
   "source": [
    "alpha = 0.05\n",
    "threshold = alpha/8\n",
    "threshold"
   ]
  },
  {
   "cell_type": "markdown",
   "metadata": {},
   "source": [
    "2. How many hypotheses are rejected if we apply Bonferroni?"
   ]
  },
  {
   "cell_type": "code",
   "execution_count": 2,
   "metadata": {},
   "outputs": [
    {
     "data": {
      "text/plain": [
       "1"
      ]
     },
     "execution_count": 2,
     "metadata": {},
     "output_type": "execute_result"
    }
   ],
   "source": [
    "import numpy as np\n",
    "\n",
    "p_vals = np.array([0.013, 0.08, 0.0004, 0.027, 0.05, 0.17, 0.009, 0.026])\n",
    "num_rejects = np.sum(p_vals <= threshold)\n",
    "num_rejects"
   ]
  },
  {
   "cell_type": "markdown",
   "metadata": {},
   "source": [
    "**Answer:**"
   ]
  },
  {
   "cell_type": "markdown",
   "metadata": {},
   "source": [
    "3. Fill in the following function that implements the BH procedure"
   ]
  },
  {
   "cell_type": "code",
   "execution_count": 14,
   "metadata": {},
   "outputs": [],
   "source": [
    "import numpy as np\n",
    "import matplotlib.pyplot as plt\n",
    "\n",
    "%matplotlib inline\n",
    "plt.style.use(\"ggplot\")\n",
    "\n",
    "def apply_BH(p_values, alpha):\n",
    "    \"\"\"\n",
    "    Returns the number of rejected hypotheses.\n",
    "    \n",
    "    \"\"\"\n",
    "    \n",
    "    m = len(p_values)\n",
    "    sorted_p_vals = np.sort(p_values)\n",
    "    comparison_vals = (np.arange(m)+1) * alpha / m\n",
    "    comparisons = sorted_p_vals <= comparison_vals\n",
    "    # max_k is the maximum index of a sorted p-value lying below the threshold\n",
    "    # Hint: Be careful of zero-indexing! p-values are indexed starting from 1\n",
    "    max_k = max(np.arange(len(p_values))[comparisons]) + 1 # After adjusting for zero-indexing, max_k is the index of the last True value\n",
    "\n",
    "# ---- Uncomment in order to see BH plot -----    \n",
    "    plt.figure(figsize = (5,5))\n",
    "    plt.xlim([0,m])\n",
    "    plt.ylim([0,0.1])\n",
    "    plt.plot([0, m], [0, alpha])\n",
    "    plt.scatter(np.arange(m)+1, sorted_p_vals, c = \"k\", label = \"Accepted p-values\")\n",
    "    plt.scatter((np.arange(m)+1)[:max_k], sorted_p_vals[:max_k], c = \"b\", label = \"Rejected p-values\")\n",
    "    plt.legend()\n",
    "    plt.show()\n",
    "    \n",
    "    return max_k"
   ]
  },
  {
   "cell_type": "markdown",
   "metadata": {},
   "source": [
    "4. Apply the function to determine how many hypotheses are rejected if we apply BH with $\\alpha = 0.05$ and $\\alpha = 0.01$."
   ]
  },
  {
   "cell_type": "markdown",
   "metadata": {},
   "source": [
    "**Answer:**"
   ]
  },
  {
   "cell_type": "code",
   "execution_count": 15,
   "metadata": {},
   "outputs": [
    {
     "data": {
      "image/png": "[encoded data removed]",
      "text/plain": [
       "<Figure size 360x360 with 1 Axes>"
      ]
     },
     "metadata": {},
     "output_type": "display_data"
    },
    {
     "data": {
      "text/plain": [
       "5"
      ]
     },
     "execution_count": 15,
     "metadata": {},
     "output_type": "execute_result"
    }
   ],
   "source": [
    "apply_BH(p_vals, 0.05)"
   ]
  },
  {
   "cell_type": "code",
   "execution_count": 16,
   "metadata": {},
   "outputs": [
    {
     "data": {
      "image/png": "[encoded data removed]",
      "text/plain": [
       "<Figure size 360x360 with 1 Axes>"
      ]
     },
     "metadata": {},
     "output_type": "display_data"
    },
    {
     "data": {
      "text/plain": [
       "1"
      ]
     },
     "execution_count": 16,
     "metadata": {},
     "output_type": "execute_result"
    }
   ],
   "source": [
    "apply_BH(p_vals, 0.01)"
   ]
  },
  {
   "cell_type": "code",
   "execution_count": null,
   "metadata": {},
   "outputs": [],
   "source": []
  }
 ],
 "metadata": {
  "kernelspec": {
   "display_name": "Python 3",
   "language": "python",
   "name": "python3"
  },
  "language_info": {
   "codemirror_mode": {
    "name": "ipython",
    "version": 3
   },
   "file_extension": ".py",
   "mimetype": "text/x-python",
   "name": "python",
   "nbconvert_exporter": "python",
   "pygments_lexer": "ipython3",
   "version": "3.7.7"
  }
 },
 "nbformat": 4,
 "nbformat_minor": 4
}
