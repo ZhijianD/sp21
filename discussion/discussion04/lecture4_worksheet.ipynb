{
 "cells": [
  {
   "cell_type": "markdown",
   "metadata": {},
   "source": [
    "# Lecture 4 worksheet"
   ]
  },
  {
   "cell_type": "markdown",
   "metadata": {},
   "source": [
    "### Problem 1 (True/False)\n",
    "\n",
    "Indicate whether each of the following statements is True or False.\n",
    "\n",
    "1. It is possible to control the FWER of an infinite sequence of hypothesis tests, while still being able to detect non-null hypotheses."
   ]
  },
  {
   "cell_type": "markdown",
   "metadata": {},
   "source": [
    "**Answer:**"
   ]
  },
  {
   "cell_type": "markdown",
   "metadata": {},
   "source": [
    "2. ROC curves illustrate the tradeoff between TPR and FDR."
   ]
  },
  {
   "cell_type": "markdown",
   "metadata": {},
   "source": [
    "**Answer:**"
   ]
  },
  {
   "cell_type": "markdown",
   "metadata": {},
   "source": [
    "3. Under the LORD algorithm, every null hypothesis has an equal probability of being rejected."
   ]
  },
  {
   "cell_type": "markdown",
   "metadata": {},
   "source": [
    "**Answer:**"
   ]
  },
  {
   "cell_type": "markdown",
   "metadata": {},
   "source": [
    "### Problem 2 (ROC curves)\n",
    "\n",
    "1. An ROC curve is plotted for a model with the following TPR and FPR values for 4 different thresholds. Compute the area under the curve (AU-ROC)."
   ]
  },
  {
   "cell_type": "code",
   "execution_count": null,
   "metadata": {},
   "outputs": [],
   "source": [
    "tpr = [0, 0.8, 0.9, 1]\n",
    "fpr = [0, 0.2, 0.4, 1]"
   ]
  },
  {
   "cell_type": "markdown",
   "metadata": {},
   "source": [
    "**Answer:**"
   ]
  },
  {
   "cell_type": "markdown",
   "metadata": {},
   "source": [
    "2. Does it make sense to plot an ROC curve for a 1-nearest neighbor classifier? Why or why not?"
   ]
  },
  {
   "cell_type": "markdown",
   "metadata": {},
   "source": [
    "**Answer:**"
   ]
  },
  {
   "cell_type": "markdown",
   "metadata": {},
   "source": [
    "3. Suppose we have a data set for which the class labels are pure noise. More precisely, suppose that the class labels $Y_1,Y_2,\\ldots,Y_n$ are independent Bernoulli random variables with $p=1/2$, and are completely independent of the feature data $X$. Nonetheless, we fit a model to the training set. What is the model's AU-ROC on the test set (approximately)? What if p = 0.2?"
   ]
  },
  {
   "cell_type": "markdown",
   "metadata": {},
   "source": [
    "**Answer:**"
   ]
  },
  {
   "cell_type": "markdown",
   "metadata": {},
   "source": [
    "4. We want to construct a model that uses [clinical data to predict whether or not a child has an intra-abdominal injury](https://www.pecarn.org/publications/documents/IAImainpredictionrulepaper.pdf). Such injuries are rare but their consequences can be devestating. What do you think is the problem of using AU-ROC as a way to compare models for this dataset?"
   ]
  },
  {
   "cell_type": "markdown",
   "metadata": {},
   "source": [
    "**Answer:**"
   ]
  },
  {
   "cell_type": "markdown",
   "metadata": {},
   "source": [
    "### Problem 3 (Tower property)"
   ]
  },
  {
   "cell_type": "markdown",
   "metadata": {},
   "source": [
    "The goal of this exercise is to get a feel for the tower property using some simple calculations. Consider the following data set of cats."
   ]
  },
  {
   "cell_type": "code",
   "execution_count": 1,
   "metadata": {},
   "outputs": [
    {
     "data": {
      "text/html": [
       "<div>\n",
       "<style scoped>\n",
       "    .dataframe tbody tr th:only-of-type {\n",
       "        vertical-align: middle;\n",
       "    }\n",
       "\n",
       "    .dataframe tbody tr th {\n",
       "        vertical-align: top;\n",
       "    }\n",
       "\n",
       "    .dataframe thead th {\n",
       "        text-align: right;\n",
       "    }\n",
       "</style>\n",
       "<table border=\"1\" class=\"dataframe\">\n",
       "  <thead>\n",
       "    <tr style=\"text-align: right;\">\n",
       "      <th></th>\n",
       "      <th>Name</th>\n",
       "      <th>Gender</th>\n",
       "      <th>Coat</th>\n",
       "      <th>Weight</th>\n",
       "    </tr>\n",
       "  </thead>\n",
       "  <tbody>\n",
       "    <tr>\n",
       "      <th>0</th>\n",
       "      <td>Nugget</td>\n",
       "      <td>F</td>\n",
       "      <td>Tabby</td>\n",
       "      <td>11.3</td>\n",
       "    </tr>\n",
       "    <tr>\n",
       "      <th>1</th>\n",
       "      <td>Bella</td>\n",
       "      <td>F</td>\n",
       "      <td>Black</td>\n",
       "      <td>6.8</td>\n",
       "    </tr>\n",
       "    <tr>\n",
       "      <th>2</th>\n",
       "      <td>Max</td>\n",
       "      <td>M</td>\n",
       "      <td>Black</td>\n",
       "      <td>8.1</td>\n",
       "    </tr>\n",
       "    <tr>\n",
       "      <th>3</th>\n",
       "      <td>Biscuits</td>\n",
       "      <td>M</td>\n",
       "      <td>Tabby</td>\n",
       "      <td>9.5</td>\n",
       "    </tr>\n",
       "    <tr>\n",
       "      <th>4</th>\n",
       "      <td>Simba</td>\n",
       "      <td>M</td>\n",
       "      <td>Tabby</td>\n",
       "      <td>8.8</td>\n",
       "    </tr>\n",
       "    <tr>\n",
       "      <th>5</th>\n",
       "      <td>Frieda</td>\n",
       "      <td>F</td>\n",
       "      <td>Tabby</td>\n",
       "      <td>7.6</td>\n",
       "    </tr>\n",
       "  </tbody>\n",
       "</table>\n",
       "</div>"
      ],
      "text/plain": [
       "       Name Gender   Coat  Weight\n",
       "0    Nugget      F  Tabby    11.3\n",
       "1     Bella      F  Black     6.8\n",
       "2       Max      M  Black     8.1\n",
       "3  Biscuits      M  Tabby     9.5\n",
       "4     Simba      M  Tabby     8.8\n",
       "5    Frieda      F  Tabby     7.6"
      ]
     },
     "execution_count": 1,
     "metadata": {},
     "output_type": "execute_result"
    }
   ],
   "source": [
    "import numpy as np\n",
    "import pandas as pd\n",
    "\n",
    "cats = pd.DataFrame({\"Name\" : [\"Nugget\", \"Bella\", \"Max\", \"Biscuits\", \"Simba\", \"Frieda\"],\n",
    "                     \"Gender\" : [\"F\", \"F\", \"M\", \"M\", \"M\", \"F\"],\n",
    "                     \"Coat\" : [\"Tabby\", \"Black\", \"Black\", \"Tabby\", \"Tabby\", \"Tabby\"],\n",
    "                     \"Weight\" : [11.3, 6.8, 8.1, 9.5, 8.8, 7.6]})\n",
    "cats"
   ]
  },
  {
   "cell_type": "markdown",
   "metadata": {},
   "source": [
    "1. Suppose we draw a cat at random, and let $G$, $C$, and $W$ denote the gender, coat and weight of the cat respectively. What is the average cat weight $\\mathbb{E}[W]$?"
   ]
  },
  {
   "cell_type": "markdown",
   "metadata": {},
   "source": [
    "**Answer:**"
   ]
  },
  {
   "cell_type": "markdown",
   "metadata": {},
   "source": [
    "2.  Compute $\\mathbb{E}[W|G=F]$ and $\\mathbb{E}[W|G=M]$, then show that $\\mathbb{E}\\left[\\mathbb{E}[W|G]\\right] = \\mathbb{E}[W]$."
   ]
  },
  {
   "cell_type": "markdown",
   "metadata": {},
   "source": [
    "**Answer:**"
   ]
  },
  {
   "cell_type": "markdown",
   "metadata": {},
   "source": [
    "3. Now compute $\\mathbb{E}[W|C=\\text{Tabby}]$ and $\\mathbb{E}[W|C=\\text{Black}]$, then show that $\\mathbb{E}\\left[\\mathbb{E}[W|C]\\right] = \\mathbb{E}[W]$."
   ]
  }
 ],
 "metadata": {
  "kernelspec": {
   "display_name": "Python 3",
   "language": "python",
   "name": "python3"
  },
  "language_info": {
   "codemirror_mode": {
    "name": "ipython",
    "version": 3
   },
   "file_extension": ".py",
   "mimetype": "text/x-python",
   "name": "python",
   "nbconvert_exporter": "python",
   "pygments_lexer": "ipython3",
   "version": "3.7.7"
  }
 },
 "nbformat": 4,
 "nbformat_minor": 4
}
