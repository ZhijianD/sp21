{
 "cells": [
  {
   "cell_type": "markdown",
   "metadata": {},
   "source": [
    "# Lecture 4 worksheet solutions"
   ]
  },
  {
   "cell_type": "markdown",
   "metadata": {},
   "source": [
    "### Problem 1 (True/False)\n",
    "\n",
    "Indicate whether each of the following statements is True or False.\n",
    "\n",
    "1. It is possible to control the FWER of an infinite sequence of hypothesis tests, while still being able to detect non-null hypotheses."
   ]
  },
  {
   "cell_type": "markdown",
   "metadata": {},
   "source": [
    "**Answer: TRUE**. Let $E_i$ be the event that the $i$-th $p$-value is a false positive. Then by the union bound,\n",
    "$$\\mathbb{P}\\left\\{ \\text{at least one FP} \\right\\} = \\mathbb{P}\\left\\{ \\cup_{i=1}^\\infty E_i \\right\\} \\leq \\sum_{i=1}^\\infty \\mathbb{P}(E_i).$$\n",
    "\n",
    "Furthermore, recall that if the $i$-th hypothesis is null, $\\mathbb{P}(E_i) = \\alpha_i$. As such, we just need to select thresholds $\\alpha_i$ so that $\\sum_{i=1}^\\infty \\alpha_i \\leq \\alpha$. For instance, we can select $\\alpha_i = \\alpha\\cdot 2^{-i}$. For any index $i$, since this threshold is larger than $0$, there is still a chance of rejecting the $i$-th hypothesis if it turns out to be non-null."
   ]
  },
  {
   "cell_type": "markdown",
   "metadata": {},
   "source": [
    "2. ROC curves illustrate the tradeoff between TPR and FDR."
   ]
  },
  {
   "cell_type": "markdown",
   "metadata": {},
   "source": [
    "**Answer: FALSE**. They illustrate the tradeoff between TPR and F**P**R."
   ]
  },
  {
   "cell_type": "markdown",
   "metadata": {},
   "source": [
    "3. Under the LORD algorithm, every null hypothesis has an equal probability of being rejected."
   ]
  },
  {
   "cell_type": "markdown",
   "metadata": {},
   "source": [
    "**Answer: FALSE**. The LORD algorithm uses different thresholds for different null hypotheses."
   ]
  },
  {
   "cell_type": "markdown",
   "metadata": {},
   "source": [
    "### Problem 2 (ROC curves)\n",
    "\n",
    "1. An ROC curve is plotted for a model with the following TPR and FPR values for 4 different thresholds. Compute the area under the curve (AU-ROC)."
   ]
  },
  {
   "cell_type": "code",
   "execution_count": 1,
   "metadata": {},
   "outputs": [],
   "source": [
    "tpr = [0, 0.8, 0.9, 1]\n",
    "fpr = [0, 0.2, 0.4, 1]"
   ]
  },
  {
   "cell_type": "markdown",
   "metadata": {},
   "source": [
    "**Answer:**"
   ]
  },
  {
   "cell_type": "code",
   "execution_count": 2,
   "metadata": {},
   "outputs": [
    {
     "data": {
      "image/png": "[encoded data removed]",
      "text/plain": [
       "<Figure size 360x360 with 1 Axes>"
      ]
     },
     "metadata": {},
     "output_type": "display_data"
    }
   ],
   "source": [
    "import numpy as np\n",
    "import pandas as pd\n",
    "import matplotlib.pyplot as plt\n",
    "%matplotlib inline\n",
    "\n",
    "plt.style.use(\"ggplot\")\n",
    "\n",
    "plt.figure(figsize = (5,5))\n",
    "plt.plot(fpr, tpr)\n",
    "plt.xlabel(\"FPR\")\n",
    "plt.ylabel(\"TPR\")\n",
    "plt.xlim([-0.05, 1.05])\n",
    "plt.ylim([-0.05, 1.05])\n",
    "plt.title(\"ROC curve\")\n",
    "plt.show()"
   ]
  },
  {
   "cell_type": "markdown",
   "metadata": {},
   "source": [
    "Finding area using trapezoid rule, we have"
   ]
  },
  {
   "cell_type": "code",
   "execution_count": 3,
   "metadata": {},
   "outputs": [
    {
     "data": {
      "text/plain": [
       "0.8200000000000001"
      ]
     },
     "execution_count": 3,
     "metadata": {},
     "output_type": "execute_result"
    }
   ],
   "source": [
    "area = (0 + 0.8)/2*0.2 + (0.8+0.9)/2*0.2 + (0.9+1)/2*0.6\n",
    "area"
   ]
  },
  {
   "cell_type": "markdown",
   "metadata": {},
   "source": [
    "Alternatively use the sklearn function to compute the trapezoid rule automatically."
   ]
  },
  {
   "cell_type": "code",
   "execution_count": 4,
   "metadata": {},
   "outputs": [],
   "source": [
    "from sklearn.metrics import auc"
   ]
  },
  {
   "cell_type": "code",
   "execution_count": 5,
   "metadata": {},
   "outputs": [
    {
     "data": {
      "text/plain": [
       "0.8200000000000001"
      ]
     },
     "execution_count": 5,
     "metadata": {},
     "output_type": "execute_result"
    }
   ],
   "source": [
    "auc(fpr, tpr)"
   ]
  },
  {
   "cell_type": "markdown",
   "metadata": {},
   "source": [
    "2. Does it make sense to plot an ROC curve for a 1-nearest neighbor classifier? Why or why not?"
   ]
  },
  {
   "cell_type": "markdown",
   "metadata": {},
   "source": [
    "**Answer:** 1-nearest neighbors do not give a score function, so we cannot plot an ROC curve."
   ]
  },
  {
   "cell_type": "markdown",
   "metadata": {},
   "source": [
    "3. Suppose we have a data set for which the class labels are pure noise. More precisely, suppose that the class labels $Y_1,Y_2,\\ldots,Y_n$ are independent Bernoulli random variables with $p=1/2$, and are completely independent of the feature data $X$. Nonetheless, we fit a model to the training set. What is the model's AU-ROC on the test set (approximately)? What if p = 0.2?"
   ]
  },
  {
   "cell_type": "markdown",
   "metadata": {},
   "source": [
    "**Answer:** The ROC curve is going to be a straight diagonal line from 0 to 1 (with AUC = 0.5). This is because the labels are *independent* of the scores, so at any given threshold, the same fraction of \"positive\" and \"negative\" examples will have scores beneath the threshold. This does depend on the choice of $p$.\n",
    "\n",
    "Mathematically, let $S$ denote the score, then over the test set, for every threshold $\\tau$\n",
    "\n",
    "$$\n",
    "\\text{TPR}(\\tau) = \\mathbb{P}\\{S>\\tau|Y=1\\} = \\mathbb{P}\\{S>\\tau|Y=0\\} = \\text{FPR}(\\tau).\n",
    "$$\n",
    "\n",
    "The left and right equalities hold by definition, and the middle one by independence of $S$ and $Y$.\n",
    "\n",
    "*Remark: This shows that 0.5 is a baseline for ROC scores. Any model that has close to 0.5 AUC is bad.*"
   ]
  },
  {
   "cell_type": "markdown",
   "metadata": {},
   "source": [
    "4. We want to construct a model that uses [clinical data to predict whether or not a child has an intra-abdominal injury](https://www.pecarn.org/publications/documents/IAImainpredictionrulepaper.pdf). Such injuries are rare but their consequences can be devestating. What do you think is the problem of using AU-ROC as a way to compare models for this dataset?\n",
    "\n",
    "**Answer:** In such a situation, false negatives are a lot more costly than false positives. As such, we do not care about most of the ROC curve, but instead only the region that has high TPR. Computing the area aggregates information about region of the curve that we don't care about."
   ]
  },
  {
   "cell_type": "markdown",
   "metadata": {},
   "source": [
    "### Problem 3 (Tower property)"
   ]
  },
  {
   "cell_type": "markdown",
   "metadata": {},
   "source": [
    "The goal of this exercise is to get a feel for the tower property using some simple calculations. Consider the following data set of cats."
   ]
  },
  {
   "cell_type": "code",
   "execution_count": 6,
   "metadata": {},
   "outputs": [
    {
     "data": {
      "text/html": [
       "<div>\n",
       "<style scoped>\n",
       "    .dataframe tbody tr th:only-of-type {\n",
       "        vertical-align: middle;\n",
       "    }\n",
       "\n",
       "    .dataframe tbody tr th {\n",
       "        vertical-align: top;\n",
       "    }\n",
       "\n",
       "    .dataframe thead th {\n",
       "        text-align: right;\n",
       "    }\n",
       "</style>\n",
       "<table border=\"1\" class=\"dataframe\">\n",
       "  <thead>\n",
       "    <tr style=\"text-align: right;\">\n",
       "      <th></th>\n",
       "      <th>Name</th>\n",
       "      <th>Gender</th>\n",
       "      <th>Coat</th>\n",
       "      <th>Weight</th>\n",
       "    </tr>\n",
       "  </thead>\n",
       "  <tbody>\n",
       "    <tr>\n",
       "      <th>0</th>\n",
       "      <td>Nugget</td>\n",
       "      <td>F</td>\n",
       "      <td>Tabby</td>\n",
       "      <td>11.3</td>\n",
       "    </tr>\n",
       "    <tr>\n",
       "      <th>1</th>\n",
       "      <td>Bella</td>\n",
       "      <td>F</td>\n",
       "      <td>Black</td>\n",
       "      <td>6.8</td>\n",
       "    </tr>\n",
       "    <tr>\n",
       "      <th>2</th>\n",
       "      <td>Max</td>\n",
       "      <td>M</td>\n",
       "      <td>Black</td>\n",
       "      <td>8.1</td>\n",
       "    </tr>\n",
       "    <tr>\n",
       "      <th>3</th>\n",
       "      <td>Biscuits</td>\n",
       "      <td>M</td>\n",
       "      <td>Tabby</td>\n",
       "      <td>9.5</td>\n",
       "    </tr>\n",
       "    <tr>\n",
       "      <th>4</th>\n",
       "      <td>Simba</td>\n",
       "      <td>M</td>\n",
       "      <td>Tabby</td>\n",
       "      <td>8.8</td>\n",
       "    </tr>\n",
       "    <tr>\n",
       "      <th>5</th>\n",
       "      <td>Frieda</td>\n",
       "      <td>F</td>\n",
       "      <td>Tabby</td>\n",
       "      <td>7.6</td>\n",
       "    </tr>\n",
       "  </tbody>\n",
       "</table>\n",
       "</div>"
      ],
      "text/plain": [
       "       Name Gender   Coat  Weight\n",
       "0    Nugget      F  Tabby    11.3\n",
       "1     Bella      F  Black     6.8\n",
       "2       Max      M  Black     8.1\n",
       "3  Biscuits      M  Tabby     9.5\n",
       "4     Simba      M  Tabby     8.8\n",
       "5    Frieda      F  Tabby     7.6"
      ]
     },
     "execution_count": 6,
     "metadata": {},
     "output_type": "execute_result"
    }
   ],
   "source": [
    "import numpy as np\n",
    "import pandas as pd\n",
    "\n",
    "cats = pd.DataFrame({\"Name\" : [\"Nugget\", \"Bella\", \"Max\", \"Biscuits\", \"Simba\", \"Frieda\"],\n",
    "                     \"Gender\" : [\"F\", \"F\", \"M\", \"M\", \"M\", \"F\"],\n",
    "                     \"Coat\" : [\"Tabby\", \"Black\", \"Black\", \"Tabby\", \"Tabby\", \"Tabby\"],\n",
    "                     \"Weight\" : [11.3, 6.8, 8.1, 9.5, 8.8, 7.6]})\n",
    "cats"
   ]
  },
  {
   "cell_type": "markdown",
   "metadata": {},
   "source": [
    "1. Suppose we draw a cat at random, and let $G$, $C$, and $W$ denote the gender, coat and weight of the cat respectively. What is the average cat weight $\\mathbb{E}[W]$?"
   ]
  },
  {
   "cell_type": "markdown",
   "metadata": {},
   "source": [
    "**Answer:**"
   ]
  },
  {
   "cell_type": "code",
   "execution_count": 7,
   "metadata": {},
   "outputs": [
    {
     "data": {
      "text/plain": [
       "8.683333333333334"
      ]
     },
     "execution_count": 7,
     "metadata": {},
     "output_type": "execute_result"
    }
   ],
   "source": [
    "avg_weight = cats[\"Weight\"].mean()\n",
    "avg_weight"
   ]
  },
  {
   "cell_type": "markdown",
   "metadata": {},
   "source": [
    "2.  Compute $\\mathbb{E}[W|G=F]$ and $\\mathbb{E}[W|G=M]$, then show that $\\mathbb{E}\\left[\\mathbb{E}[W|G]\\right] = \\mathbb{E}[W]$."
   ]
  },
  {
   "cell_type": "markdown",
   "metadata": {},
   "source": [
    "**Answer:**"
   ]
  },
  {
   "cell_type": "code",
   "execution_count": 8,
   "metadata": {},
   "outputs": [
    {
     "data": {
      "text/plain": [
       "8.566666666666668"
      ]
     },
     "execution_count": 8,
     "metadata": {},
     "output_type": "execute_result"
    }
   ],
   "source": [
    "avg_weight_f = cats[cats[\"Gender\"] == \"F\"][\"Weight\"].mean()\n",
    "avg_weight_f"
   ]
  },
  {
   "cell_type": "code",
   "execution_count": 9,
   "metadata": {},
   "outputs": [
    {
     "data": {
      "text/plain": [
       "8.8"
      ]
     },
     "execution_count": 9,
     "metadata": {},
     "output_type": "execute_result"
    }
   ],
   "source": [
    "avg_weight_m = cats[cats[\"Gender\"] == \"M\"][\"Weight\"].mean()\n",
    "avg_weight_m"
   ]
  },
  {
   "cell_type": "code",
   "execution_count": 10,
   "metadata": {},
   "outputs": [
    {
     "data": {
      "text/plain": [
       "True"
      ]
     },
     "execution_count": 10,
     "metadata": {},
     "output_type": "execute_result"
    }
   ],
   "source": [
    "avg_weight_f * 3/6 + avg_weight_m * 3/6 == avg_weight"
   ]
  },
  {
   "cell_type": "markdown",
   "metadata": {},
   "source": [
    "3. Now compute $\\mathbb{E}[W|C=\\text{Tabby}]$ and $\\mathbb{E}[W|C=\\text{Black}]$, then show that $\\mathbb{E}\\left[\\mathbb{E}[W|C]\\right] = \\mathbb{E}[W]$."
   ]
  },
  {
   "cell_type": "code",
   "execution_count": 11,
   "metadata": {},
   "outputs": [
    {
     "data": {
      "text/plain": [
       "9.3"
      ]
     },
     "execution_count": 11,
     "metadata": {},
     "output_type": "execute_result"
    }
   ],
   "source": [
    "avg_weight_t = cats[cats[\"Coat\"] == \"Tabby\"][\"Weight\"].mean()\n",
    "avg_weight_t"
   ]
  },
  {
   "cell_type": "code",
   "execution_count": 12,
   "metadata": {},
   "outputs": [
    {
     "data": {
      "text/plain": [
       "7.449999999999999"
      ]
     },
     "execution_count": 12,
     "metadata": {},
     "output_type": "execute_result"
    }
   ],
   "source": [
    "avg_weight_b = cats[cats[\"Coat\"] == \"Black\"][\"Weight\"].mean()\n",
    "avg_weight_b"
   ]
  },
  {
   "cell_type": "code",
   "execution_count": 13,
   "metadata": {},
   "outputs": [
    {
     "data": {
      "text/plain": [
       "True"
      ]
     },
     "execution_count": 13,
     "metadata": {},
     "output_type": "execute_result"
    }
   ],
   "source": [
    "avg_weight_t * 4/6 + avg_weight_b * 2/6 == avg_weight"
   ]
  },
  {
   "cell_type": "code",
   "execution_count": null,
   "metadata": {},
   "outputs": [],
   "source": []
  }
 ],
 "metadata": {
  "kernelspec": {
   "display_name": "Python 3",
   "language": "python",
   "name": "python3"
  },
  "language_info": {
   "codemirror_mode": {
    "name": "ipython",
    "version": 3
   },
   "file_extension": ".py",
   "mimetype": "text/x-python",
   "name": "python",
   "nbconvert_exporter": "python",
   "pygments_lexer": "ipython3",
   "version": "3.7.7"
  }
 },
 "nbformat": 4,
 "nbformat_minor": 4
}
