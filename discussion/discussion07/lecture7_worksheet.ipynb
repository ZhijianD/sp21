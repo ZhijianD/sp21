{
 "cells": [
  {
   "cell_type": "markdown",
   "metadata": {},
   "source": [
    "# Lecture 7 worksheet"
   ]
  },
  {
   "cell_type": "markdown",
   "metadata": {},
   "source": [
    "## Question 1: Picking the right graphical model\n",
    "\n",
    "For each question, choose the graphical model (one of (a) through (e)) that fits it best. If none of the answers works as-is, then pick one and specify **one** arrow/edge you'd need to add for it to be correct.\n",
    "\n",
    "\n",
    "(a) | (b) | (c) | (d) | (e)\n",
    "- | - | - | - | -\n",
    "![](a.png) | ![](b.png) |  ![](c.png) | ![](d.png) | ![](e.png)\n"
   ]
  },
  {
   "cell_type": "markdown",
   "metadata": {},
   "source": [
    "\n",
    "### Q1.1\n",
    "\n",
    "For this example, we'll model data coming from a smart watch or other wearable device.\n",
    "\n",
    "* $x$ is the average temperature measurement for the last 30 minutes\n",
    "* $y$ is the average heart rate measurement for the last 30 minutes\n",
    "* $z$ is the number of minutes spent exercising in the last 30 minutes"
   ]
  },
  {
   "cell_type": "markdown",
   "metadata": {},
   "source": [
    "**Answer**: "
   ]
  },
  {
   "cell_type": "markdown",
   "metadata": {},
   "source": [
    "### Q1.2\n",
    "\n",
    "For this example, we'll model data from social media, supposing that we take a survey at a particular time and compare it to data from the hour before the survey was given.\n",
    "\n",
    "* $x$ is the number of cute animal videos watched in the last hour\n",
    "* $y$ is the number of messages sent between users on the platform in the last hour\n",
    "* $z$ is the average happiness score of users in the survey"
   ]
  },
  {
   "cell_type": "markdown",
   "metadata": {},
   "source": [
    "**Answer**: "
   ]
  },
  {
   "cell_type": "markdown",
   "metadata": {},
   "source": [
    "### Q1.3\n",
    "\n",
    "For this example, we'll model crops on farms.\n",
    "\n",
    "* $w$ is the amount of pesticide used\n",
    "* $x$ is the amount of total rainfall for the season\n",
    "* $y$ is the number of bugs found in the field\n",
    "* $z$ is the crop yield"
   ]
  },
  {
   "cell_type": "markdown",
   "metadata": {},
   "source": [
    "**Answer**: "
   ]
  },
  {
   "cell_type": "markdown",
   "metadata": {},
   "source": [
    "### Q1.4\n",
    "\n",
    "**Your example here**: Come up with example values for $w$, $x$, $y$, and $z$. Try to use an example from a problem you've seen in one of your other classes or in real life.\n"
   ]
  },
  {
   "cell_type": "markdown",
   "metadata": {},
   "source": [
    "**Answer**: "
   ]
  },
  {
   "cell_type": "markdown",
   "metadata": {},
   "source": [
    "## Question 2: Independence and conditional independence\n",
    "\n",
    "\n",
    "Consider graphical model (c) above: ![](c.png) Which of the following statements are true?"
   ]
  },
  {
   "cell_type": "markdown",
   "metadata": {},
   "source": [
    "### Q2.1\n",
    "\n",
    "(a) $ x \\perp \\!\\!\\! \\perp w $\n",
    "\n",
    "(b) $ w \\perp \\!\\!\\! \\perp x \\mid y $\n",
    "\n",
    "(c) $ w \\perp \\!\\!\\! \\perp y $ \n"
   ]
  },
  {
   "cell_type": "markdown",
   "metadata": {},
   "source": [
    "**Answer**:"
   ]
  },
  {
   "cell_type": "markdown",
   "metadata": {},
   "source": [
    "### Q2.2 (optional)\n",
    "\n",
    "\n",
    "(a) $ w \\perp \\!\\!\\! \\perp z \\mid y $\n",
    "\n",
    "(b) $ w \\perp \\!\\!\\! \\perp z \\mid z $\n",
    "\n",
    "(c) $ w \\perp \\!\\!\\! \\perp z $"
   ]
  },
  {
   "cell_type": "markdown",
   "metadata": {},
   "source": [
    "**Answer**:"
   ]
  },
  {
   "cell_type": "markdown",
   "metadata": {},
   "source": [
    "## Question 3 (Review): The multivariate normal distribution\n",
    "\n",
    "This question isn't related to the lecture, but it's meant to review the multivariate normal distribution.\n",
    "\n",
    "Recall that a $d$-dimensional vector $x = (x_1, x_2, \\ldots, x_d)$ has the [*multivariate normal distribution*](http://prob140.org/textbook/content/Chapter_23/02_Multivariate_Normal_Distribution.html) with mean vector $\\mu$ and covariance matrix $\\Sigma$ when\n",
    "\n",
    "$$p(x) \\propto \\exp\\left\\{-\\frac{1}{2}(x-\\mu)^T \\Sigma^{-1} (x-\\mu)\\right\\}$$"
   ]
  },
  {
   "cell_type": "markdown",
   "metadata": {},
   "source": [
    "### Q3.1\n",
    "\n",
    "Show that if $\\Sigma = \\sigma^2 I$ for some scalar $\\sigma$ (where $I$ is the identity matrix), then the individual random variables $x_1, \\ldots, x_d$ are all independent.\n",
    "\n",
    "*Hint: Don't worry about the normalizing constant.*"
   ]
  },
  {
   "cell_type": "markdown",
   "metadata": {},
   "source": [
    "**Answer**:"
   ]
  },
  {
   "cell_type": "markdown",
   "metadata": {},
   "source": [
    "### Q3.2\n",
    "\n",
    "Show that if $y = ax+b$, then $y$ also has a multivariate normal distribution. What are the mean and covariance of $y$? \n",
    "\n",
    "*Hint: Your answer shouldn't require too much algebra: if you find yourself doing a lot of it, there may be an easier way.*"
   ]
  },
  {
   "cell_type": "markdown",
   "metadata": {},
   "source": [
    "**Answer**:"
   ]
  }
 ],
 "metadata": {
  "kernelspec": {
   "display_name": "Python 3",
   "language": "python",
   "name": "python3"
  },
  "language_info": {
   "codemirror_mode": {
    "name": "ipython",
    "version": 3
   },
   "file_extension": ".py",
   "mimetype": "text/x-python",
   "name": "python",
   "nbconvert_exporter": "python",
   "pygments_lexer": "ipython3",
   "version": "3.7.3"
  }
 },
 "nbformat": 4,
 "nbformat_minor": 4
}
