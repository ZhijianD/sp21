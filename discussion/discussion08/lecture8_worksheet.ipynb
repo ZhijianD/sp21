{
 "cells": [
  {
   "cell_type": "markdown",
   "metadata": {},
   "source": [
    "# Lecture 8 worksheet"
   ]
  },
  {
   "cell_type": "code",
   "execution_count": 2,
   "metadata": {},
   "outputs": [],
   "source": [
    "import numpy as np\n",
    "from scipy import stats\n",
    "%matplotlib inline\n",
    "import matplotlib.pyplot as plt"
   ]
  },
  {
   "cell_type": "markdown",
   "metadata": {},
   "source": [
    "## Question 1: Random sampling with numpy"
   ]
  },
  {
   "cell_type": "markdown",
   "metadata": {},
   "source": [
    "For each of the following prompts, use distributions in `np.random.•••` (or `stats.•••.rvs`) to generate 100 samples from the specified distribution. Each answer should require no more than 5 lines of code."
   ]
  },
  {
   "cell_type": "markdown",
   "metadata": {},
   "source": [
    "### Q1.1\n",
    "\n",
    "Generate samples from a 2-dimensional multivariate normal distribution with mean $(0, 3)$ and the given covariance matrix. Make a scatterplot where each axis corresponds to one of the two dimensions, and each sample is a single point. \n",
    "\n",
    "To help make the points more visible, use `alpha=0.2` as a keyword argument to the `scatter` function: this makes the drawn points more transparent so that it's easier to see when multiple points overlap."
   ]
  },
  {
   "cell_type": "code",
   "execution_count": 15,
   "metadata": {},
   "outputs": [],
   "source": [
    "covariance = np.array([[9, -3], [-3, 9]])\n",
    "# ANSWER:"
   ]
  },
  {
   "cell_type": "markdown",
   "metadata": {},
   "source": [
    "### Q1.2"
   ]
  },
  {
   "cell_type": "markdown",
   "metadata": {},
   "source": [
    "Generate samples from the following model. You should use variables `z` and `x` for the samples of $z$ and $x$ respectively. For $z$, make sure you're generating samples from the correct parameters, and verify that the empirical distribution of your samples looks like the corresponding distribution on the [Wikipedia page for the Gamma distribution](https://en.wikipedia.org/wiki/Gamma_distribution). \n",
    "\n",
    "Draw a scatterplot of $x$ and $z$, and label your axes. As above, use `alpha=0.2` to improve your scatterplot.\n",
    "\n",
    "$$\n",
    "z \\sim \\text{Gamma}(k=7.5, \\theta=1.0)\\\\\n",
    "x \\sim N(0, 1/z)\n",
    "$$"
   ]
  },
  {
   "cell_type": "code",
   "execution_count": null,
   "metadata": {},
   "outputs": [],
   "source": [
    "# ANSWER:"
   ]
  },
  {
   "cell_type": "markdown",
   "metadata": {},
   "source": [
    "## Question 2: Rejection sampling and normalizing constants"
   ]
  },
  {
   "cell_type": "markdown",
   "metadata": {},
   "source": [
    "In this question, we'll revisit the distribution we used in Discussion 6.\n",
    "\n",
    "$$p(\\theta) = \\frac{\\log(2+\\sin(a\\theta))}{Z}$$"
   ]
  },
  {
   "cell_type": "markdown",
   "metadata": {},
   "source": [
    "where $\\theta \\in [0, 4]$. Recall that we used numerical integration to estimate that if $a=4$, then $Z\\approx 2.76$. We'll assume $a=4$ for the rest of this question, too.\n",
    "\n",
    "For this question, we'll use a scaled unnormalized version of the distribution as our target, which we want to generate samples from:\n",
    "\n",
    "$$p_\\text{target} = M \\log(2 + \\sin(4\\theta))$$\n",
    "\n",
    "We'll see how our procedure changes as we pick different values for the constant $M$."
   ]
  },
  {
   "cell_type": "markdown",
   "metadata": {},
   "source": [
    "### Q2.1"
   ]
  },
  {
   "cell_type": "markdown",
   "metadata": {},
   "source": [
    "For rejection sampling, we need to choose a sampling distribution. Decide on what sampling distribution you'll use, and make one plot with 5 curves. Your plot should have a legend labeling which curve is which: don't worry if the legend covers up a little bit of the graph.\n",
    "\n",
    "* The true normalized distribution $p(\\theta)$ (using the approximate $Z$-value from discussion 6)\n",
    "* The sampling distribution\n",
    "* The target distribution for $M=1$, $M=0.1$, and $M=\\frac{1}{4\\log(3)}$\n"
   ]
  },
  {
   "cell_type": "code",
   "execution_count": null,
   "metadata": {},
   "outputs": [],
   "source": [
    "# ANSWER:"
   ]
  },
  {
   "cell_type": "markdown",
   "metadata": {},
   "source": [
    "### Q2.2"
   ]
  },
  {
   "cell_type": "markdown",
   "metadata": {},
   "source": [
    "Rank the three choices of $M$ from best to worst: your answer should take into account both\n",
    "correctness and efficiency."
   ]
  },
  {
   "cell_type": "markdown",
   "metadata": {},
   "source": [
    "**Answer**:"
   ]
  },
  {
   "cell_type": "markdown",
   "metadata": {},
   "source": [
    "### Q2.3  (optional)"
   ]
  },
  {
   "cell_type": "markdown",
   "metadata": {},
   "source": [
    "Explain what's special about the target distribution when $M=\\frac{1}{4\\log(3)}$, and why."
   ]
  },
  {
   "cell_type": "markdown",
   "metadata": {},
   "source": [
    "### Q2.3"
   ]
  },
  {
   "cell_type": "markdown",
   "metadata": {},
   "source": [
    "Assume $a=4$, set $M=0.1$, and use rejection sampling to draw 1000 samples from $p(\\theta)$. How many of your samples were accepted? Using your samples, estimate the variance of $p(\\theta)$. \n",
    "\n",
    "*Hint: You may find it helpful to borrow some code from the lecture notebook to solve this problem, but make sure you're using the right distributions!*"
   ]
  },
  {
   "cell_type": "code",
   "execution_count": 9,
   "metadata": {},
   "outputs": [],
   "source": [
    "# Answer:"
   ]
  },
  {
   "cell_type": "markdown",
   "metadata": {},
   "source": [
    "### Q2.4 \n",
    "\n",
    "What is the mathematical relationship between the proportion of your samples that were accepted (call it $p_A$), $M$, and the normalizing constant $Z$? For this question, you can state your result based just on what you've seen in this question and lecture: you'll show it a little more formally on the homework.\n",
    "\n",
    "*Hint: look at the magic numbers in the lecture notebook. How are they related to the normalizing constants and the acceptance probabilities?*"
   ]
  },
  {
   "cell_type": "markdown",
   "metadata": {},
   "source": [
    "**Answer**:"
   ]
  }
 ],
 "metadata": {
  "kernelspec": {
   "display_name": "Python 3",
   "language": "python",
   "name": "python3"
  },
  "language_info": {
   "codemirror_mode": {
    "name": "ipython",
    "version": 3
   },
   "file_extension": ".py",
   "mimetype": "text/x-python",
   "name": "python",
   "nbconvert_exporter": "python",
   "pygments_lexer": "ipython3",
   "version": "3.7.3"
  }
 },
 "nbformat": 4,
 "nbformat_minor": 4
}
