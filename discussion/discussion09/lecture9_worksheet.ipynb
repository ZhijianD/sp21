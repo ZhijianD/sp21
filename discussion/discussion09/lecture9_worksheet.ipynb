{
 "cells": [
  {
   "cell_type": "markdown",
   "metadata": {},
   "source": [
    "# Lecture 9 worksheet"
   ]
  },
  {
   "cell_type": "code",
   "execution_count": 45,
   "metadata": {},
   "outputs": [],
   "source": [
    "import numpy as np\n",
    "from scipy import stats\n",
    "%matplotlib inline\n",
    "import matplotlib.pyplot as plt\n",
    "\n",
    "import seaborn as sns\n",
    "\n",
    "sns.set()\n",
    "sns.set_context('notebook')"
   ]
  },
  {
   "cell_type": "markdown",
   "metadata": {},
   "source": [
    "## Question 1: Metropolis-Hastings"
   ]
  },
  {
   "cell_type": "markdown",
   "metadata": {},
   "source": [
    "We'll be working with the following distribution for this question:"
   ]
  },
  {
   "cell_type": "code",
   "execution_count": 47,
   "metadata": {},
   "outputs": [
    {
     "data": {
      "image/png": "[encoded data removed]",
      "text/plain": [
       "<Figure size 432x288 with 1 Axes>"
      ]
     },
     "metadata": {},
     "output_type": "display_data"
    }
   ],
   "source": [
    "# You don't have to understand what this code is doing.\n",
    "t = np.linspace(0, 100, 1000)\n",
    "gmm = sum([π * stats.norm(μ, σ).pdf(t) for (π, μ, σ) in [(3, 5, 2), (6, 40, 9), (1, 20, .5), (1, 79, 3)]])\n",
    "plt.plot(t, gmm + stats.expon.pdf(t+3) * 2 + .1 * stats.expon.pdf(t - 79))\n",
    "plt.xlabel(\"t\")\n",
    "plt.ylabel(\"$\\propto p(t)$\")\n",
    "plt.yticks([]);"
   ]
  },
  {
   "cell_type": "markdown",
   "metadata": {},
   "source": [
    "### Q1.1\n",
    "\n",
    "Given this distribution, rank the following four Metropolis-Hastings proposal distributions from best to worst. Explain your answer.\n",
    "\n",
    "1. A uniform distribution of width 1 centered at the current $t$ (i.e., Uniform$[t-0.5, t+0.5]$)\n",
    "2. A shifted exponential distribution starting at the current $t$ with $\\lambda=1$\n",
    "3. A normal distribution with mean at the current $t$ and standard deviation 500\n",
    "4. A normal distribution with mean at the current $t$ and standard deviation 40"
   ]
  },
  {
   "cell_type": "markdown",
   "metadata": {},
   "source": [
    "**Answer**:"
   ]
  },
  {
   "cell_type": "markdown",
   "metadata": {},
   "source": [
    "## Question 2: Gibbs sampling"
   ]
  },
  {
   "cell_type": "markdown",
   "metadata": {},
   "source": [
    "Consider a Gaussian mixture model with two components (like the example we used for height and gender):\n",
    "\n",
    "$$\n",
    "z_i \\sim \\text{Bernoulli}(\\pi) \\\\\n",
    "\\mu_k \\sim N(\\mu, \\sigma_\\mu^2) \\\\\n",
    "x_i | z_i, \\mu_0, \\mu_1 \\sim N(\\mu_{z_i}, \\sigma^2)\n",
    "$$\n",
    "\n",
    "For constant parameters $\\pi$, $\\sigma_\\mu$, and $\\sigma$.\n",
    "\n",
    "Recall from lecture that in this model, because of the effect of the group labels, there's no simple conjugate form for the joint posterior over all the hidden variables (group labels and group means)."
   ]
  },
  {
   "cell_type": "markdown",
   "metadata": {},
   "source": [
    "### Q2.1"
   ]
  },
  {
   "cell_type": "markdown",
   "metadata": {},
   "source": [
    "Wassaf runs a dog shelter, and collects data on how much each dog at the shelter weighs. He knows that small dogs and big dogs have different average weights, but he didn't record the size of each dog when he collected the data. So, he asks you to use a Gaussian mixture model to model the weights.\n",
    "\n",
    "For each of the following, describe *briefly* (one sentence or less) in plain English what that variable represents."
   ]
  },
  {
   "cell_type": "markdown",
   "metadata": {},
   "source": [
    "**Answer**:\n",
    "\n",
    "Random variables:\n",
    "* $z_i$: \n",
    "* $x_i$: \n",
    "* $\\mu_0$: \n",
    "* $\\mu_1$: \n",
    "\n",
    "Parameters:\n",
    "* $\\pi$:\n",
    "* $\\sigma_u$: \n",
    "* $\\sigma$: "
   ]
  },
  {
   "cell_type": "markdown",
   "metadata": {},
   "source": [
    "### Q2.2"
   ]
  },
  {
   "cell_type": "markdown",
   "metadata": {},
   "source": [
    "Without doing any algebra, what is the Gibbs sampling update for $\\mu_0$? In other words, what is $p(\\mu_0|\\mu_1, z_1, \\ldots, z_n, x_1, \\ldots, x_n)$?\n",
    "\n",
    "*Hint*: What does $p(\\mu_0|\\mu_1, z_1, \\ldots, z_n, x_1, \\ldots, x_n)$ mean? How might you describe it to someone at the shelter in plain English?\n",
    "\n",
    "*Hint*: The correct answer has the form of a well-known distribution that's easy to sample from using `np.random.•••`."
   ]
  },
  {
   "cell_type": "markdown",
   "metadata": {},
   "source": [
    "**Answer**:"
   ]
  },
  {
   "cell_type": "markdown",
   "metadata": {},
   "source": [
    "### Q2.3"
   ]
  },
  {
   "cell_type": "markdown",
   "metadata": {},
   "source": [
    "What is the Gibbs sampling update for $z_i$? In other words, what is $p(z_i|\\mu_0, \\mu_1, z^{\\neg i}, x_1, \\ldots, x_n)$? (Here, the notation $z^{\\neg i}$ means \"all of the $z$s except for $z_i$\").\n",
    "\n",
    "*Hint*: Before doing any calculation/algebra, can you use conditional independence to figure out a smaller set of random variables that $z_i$ depends on?\n",
    "\n",
    "*Hint*: The correct answer has the form of a well-known distribution that's easy to sample from using `np.random.•••`.\n",
    "\n",
    "*Hint*: The notation $\\mu_{z_i}$ in the likelihood above means that we can't do any manipulations with the variable $z_i$. Can you rewrite it to match notation that's used in another distribution in this model?"
   ]
  },
  {
   "cell_type": "markdown",
   "metadata": {},
   "source": [
    "**Answer**:"
   ]
  },
  {
   "cell_type": "markdown",
   "metadata": {},
   "source": [
    "### Q2.4 (optional)\n",
    "\n",
    "Derive the Gibbs sampling update for $\\mu_0$: in other words, what is $p(\\mu_0|\\mu_1, z_1, \\ldots, z_n, x_1, \\ldots, x_n)$?"
   ]
  },
  {
   "cell_type": "markdown",
   "metadata": {},
   "source": [
    "**Answer**:"
   ]
  },
  {
   "cell_type": "markdown",
   "metadata": {},
   "source": [
    "## Question 3: Teaching yourself new methods"
   ]
  },
  {
   "cell_type": "markdown",
   "metadata": {},
   "source": [
    "Data science is a constantly evolving field. This means that being able to teach yourself about new* methods is an important skill. Given what you've learned about MCMC, spend 5-10 minutes learning as much as you can about a technique called **Hamiltonian Monte Carlo** (HMC). \n",
    "\n",
    "In three sentences or fewer: What is it? Why might people want to use it?\n",
    "\n",
    "\\* _\"new\" here is a relative term: HMC was invented in the 1980s, but variants on it are extremely popular in Bayesian inference today._"
   ]
  },
  {
   "cell_type": "markdown",
   "metadata": {},
   "source": [
    "**Answer**: "
   ]
  }
 ],
 "metadata": {
  "kernelspec": {
   "display_name": "Python 3",
   "language": "python",
   "name": "python3"
  },
  "language_info": {
   "codemirror_mode": {
    "name": "ipython",
    "version": 3
   },
   "file_extension": ".py",
   "mimetype": "text/x-python",
   "name": "python",
   "nbconvert_exporter": "python",
   "pygments_lexer": "ipython3",
   "version": "3.7.7"
  }
 },
 "nbformat": 4,
 "nbformat_minor": 4
}
