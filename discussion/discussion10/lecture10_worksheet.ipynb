{
 "cells": [
  {
   "cell_type": "markdown",
   "metadata": {},
   "source": [
    "# Lecture 10 worksheet"
   ]
  },
  {
   "cell_type": "code",
   "execution_count": 1,
   "metadata": {},
   "outputs": [
    {
     "name": "stderr",
     "output_type": "stream",
     "text": [
      "//anaconda3/lib/python3.7/site-packages/statsmodels/tools/_testing.py:19: FutureWarning: pandas.util.testing is deprecated. Use the functions in the public API at pandas.testing instead.\n",
      "  import pandas.util.testing as tm\n",
      "//anaconda3/lib/python3.7/site-packages/statsmodels/compat/pandas.py:23: FutureWarning: The Panel class is removed from pandas. Accessing it from the top-level namespace will also be removed in the next version\n",
      "  data_klasses = (pandas.Series, pandas.DataFrame, pandas.Panel)\n"
     ]
    }
   ],
   "source": [
    "%matplotlib inline\n",
    "import numpy as np\n",
    "import pandas as pd\n",
    "import matplotlib.pyplot as plt\n",
    "import seaborn as sns\n",
    "sns.set()\n",
    "\n",
    "import pymc3 as pm\n",
    "from pymc3 import glm\n",
    "import statsmodels.api as sm\n",
    "import arviz\n",
    "\n",
    "sns.set()\n",
    "sns.set_context('notebook')"
   ]
  },
  {
   "cell_type": "markdown",
   "metadata": {},
   "source": [
    "## Question 1: Fitting a multi-dimensional model"
   ]
  },
  {
   "cell_type": "markdown",
   "metadata": {},
   "source": [
    "In lecture, you saw how to fit a 1-dimensional regression model in two different ways:\n",
    "* Bayesian regression using PyMC3 to find the (approximate) posterior distribution over the coefficients\n",
    "* Frequentist regression using statsmodels to find the estimated coefficients\n",
    "\n",
    "In this question, you'll extend the analyses from lecture into multi-dimensional regression.\n",
    "\n",
    "For each question, you should produce similar output (plots, etc.) to what was produced in lecture."
   ]
  },
  {
   "cell_type": "markdown",
   "metadata": {},
   "source": [
    "### Q1.1\n",
    "\n",
    "The column `t_cap` in the turbines dataset contains the total power capacity available from wind turbines built in that year.\n",
    "\n",
    "Write PyMC3 code to predict log(total capacity) from year and number of turbines (using `t_built`). Compare using a normal likelihood model to a Student $t$ likelihood model. What changes and why?"
   ]
  },
  {
   "cell_type": "code",
   "execution_count": null,
   "metadata": {},
   "outputs": [],
   "source": []
  },
  {
   "cell_type": "markdown",
   "metadata": {},
   "source": [
    "### Q1.2\n",
    "\n",
    "Repeat the previous part, but using frequentist inference in statsmodels."
   ]
  },
  {
   "cell_type": "code",
   "execution_count": null,
   "metadata": {},
   "outputs": [],
   "source": []
  },
  {
   "cell_type": "markdown",
   "metadata": {},
   "source": [
    "### Q1.3\n",
    "\n",
    "Interpret the coefficients you found in Q1.1 above. Your answers should look something like this:\n",
    "\n",
    "* (COEFFICIENT): If (VARIABLE) changes by (AMOUNT), then (OTHER VARIABLE) (HOW IT CHANGES)"
   ]
  },
  {
   "cell_type": "markdown",
   "metadata": {},
   "source": [
    "**Answer**:"
   ]
  },
  {
   "cell_type": "markdown",
   "metadata": {},
   "source": [
    "### Q1.4\n",
    "\n",
    "List at least five different problems or concerns you have with the analysis/results from Q1.1."
   ]
  },
  {
   "cell_type": "markdown",
   "metadata": {},
   "source": [
    "**Answer**:"
   ]
  },
  {
   "cell_type": "markdown",
   "metadata": {},
   "source": [
    "## Question 2: Likelihood, loss functions, and logistic regression\n",
    "\n",
    "Suppose that we assume the likelihood model for each $y_i$ is Bernoulli with parameter $\\sigma(\\beta^T x_i)$. Show that maximizing the likelihood is equivalent to minimizing the binary cross-entropy loss.\n",
    "\n",
    "*Hint*: remember that maximizing the likelihood is exactly equivalent to minimizing the negative log-likelihood."
   ]
  }
 ],
 "metadata": {
  "kernelspec": {
   "display_name": "Python 3",
   "language": "python",
   "name": "python3"
  },
  "language_info": {
   "codemirror_mode": {
    "name": "ipython",
    "version": 3
   },
   "file_extension": ".py",
   "mimetype": "text/x-python",
   "name": "python",
   "nbconvert_exporter": "python",
   "pygments_lexer": "ipython3",
   "version": "3.7.3"
  }
 },
 "nbformat": 4,
 "nbformat_minor": 4
}
