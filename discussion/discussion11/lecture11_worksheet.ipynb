{
 "cells": [
  {
   "cell_type": "markdown",
   "metadata": {},
   "source": [
    "# Lecture 11 worksheet"
   ]
  },
  {
   "cell_type": "code",
   "execution_count": 123,
   "metadata": {},
   "outputs": [],
   "source": [
    "%matplotlib inline\n",
    "import numpy as np\n",
    "import pandas as pd\n",
    "import matplotlib.pyplot as plt\n",
    "import seaborn as sns\n",
    "from sklearn.ensemble import RandomForestRegressor\n",
    "from sklearn.metrics import mean_squared_log_error\n",
    "from sklearn.datasets import load_iris\n",
    "\n",
    "import statsmodels.api as sm\n",
    "import pymc3 as pm\n",
    "from pymc3 import glm\n",
    "import arviz as az\n",
    "\n",
    "from IPython.display import Image\n",
    "sns.set(style=\"dark\")\n",
    "plt.style.use(\"ggplot\")"
   ]
  },
  {
   "cell_type": "markdown",
   "metadata": {},
   "source": [
    "## Problem 1: Goodness of fit for linear models"
   ]
  },
  {
   "cell_type": "markdown",
   "metadata": {},
   "source": [
    "### Q1 a)\n",
    "\n",
    "Based on visually inspecting the following plot, can you tell if the linear model is misspecified?\n",
    "\n",
    "*Hint: Check out the assumptions of the linear model [here](https://bookdown.org/egarpor/PM-UC3M/lm-i-assumps.html).*"
   ]
  },
  {
   "cell_type": "code",
   "execution_count": 27,
   "metadata": {},
   "outputs": [
    {
     "data": {
      "image/png": "[encoded data removed]",
      "text/plain": [
       "<Figure size 432x288 with 1 Axes>"
      ]
     },
     "metadata": {
      "needs_background": "light"
     },
     "output_type": "display_data"
    }
   ],
   "source": [
    "q1a_df = pd.read_csv(\"q1a.csv\", index_col = 0)\n",
    "plt.scatter(q1a_df[\"x\"], q1a_df[\"y\"])\n",
    "plt.xlabel(\"x\")\n",
    "plt.ylabel(\"y\")\n",
    "plt.show()"
   ]
  },
  {
   "cell_type": "markdown",
   "metadata": {},
   "source": [
    "### Q1 b)\n",
    "\n",
    "We now try to fit a linear model and do a QQ-plot to examine goodness of fit. Briefly read about QQ-plots [here](https://en.wikipedia.org/wiki/Q%E2%80%93Q_plot) or your favorite reference."
   ]
  },
  {
   "cell_type": "code",
   "execution_count": 54,
   "metadata": {},
   "outputs": [
    {
     "name": "stdout",
     "output_type": "stream",
     "text": [
      "                 Generalized Linear Model Regression Results                  \n",
      "==============================================================================\n",
      "Dep. Variable:                      y   No. Observations:                  100\n",
      "Model:                            GLM   Df Residuals:                       98\n",
      "Model Family:                Gaussian   Df Model:                            1\n",
      "Link Function:               identity   Scale:                        0.058628\n",
      "Method:                          IRLS   Log-Likelihood:                0.94306\n",
      "Date:                Sun, 21 Feb 2021   Deviance:                       5.7456\n",
      "Time:                        23:35:29   Pearson chi2:                     5.75\n",
      "No. Iterations:                     3                                         \n",
      "Covariance Type:            nonrobust                                         \n",
      "==============================================================================\n",
      "                 coef    std err          z      P>|z|      [0.025      0.975]\n",
      "------------------------------------------------------------------------------\n",
      "const          0.0889      0.025      3.567      0.000       0.040       0.138\n",
      "x              0.5124      0.042     12.267      0.000       0.431       0.594\n",
      "==============================================================================\n"
     ]
    }
   ],
   "source": [
    "gaussian_model = sm.GLM(\n",
    "    q1a_df.y, sm.add_constant(q1a_df.x), \n",
    "    family=sm.families.Gaussian()\n",
    ")\n",
    "gaussian_results = gaussian_model.fit()\n",
    "print(gaussian_results.summary())"
   ]
  },
  {
   "cell_type": "code",
   "execution_count": 55,
   "metadata": {},
   "outputs": [
    {
     "data": {
      "image/png": "[encoded data removed]",
      "text/plain": [
       "<Figure size 432x288 with 1 Axes>"
      ]
     },
     "metadata": {
      "needs_background": "light"
     },
     "output_type": "display_data"
    }
   ],
   "source": [
    "sm.qqplot(gaussian_results.resid_response / np.std(gaussian_results.resid_response), line = \"45\")\n",
    "plt.show()"
   ]
  },
  {
   "cell_type": "markdown",
   "metadata": {},
   "source": [
    "We are comparing the sample distribution of the residuals to the standard normal distribution. What can we say about the goodness-of-fit from this plot? Which assumption of the linear model are we checking?"
   ]
  },
  {
   "cell_type": "markdown",
   "metadata": {},
   "source": [
    "## Problem 2: Interpreting logistic model"
   ]
  },
  {
   "cell_type": "markdown",
   "metadata": {},
   "source": [
    "In this problem, we fit a logistic regression model on a subset of the famous [iris](https://en.wikipedia.org/wiki/Iris_flower_data_set) dataset. We have 100 samples of iris flowers, and measure their sepal length, sepal width, petal length and petal width. The response labels are whether they belong to the *Virginica* species (1) or the *Versicolor* species (0)."
   ]
  },
  {
   "cell_type": "code",
   "execution_count": 101,
   "metadata": {},
   "outputs": [],
   "source": [
    "X, y = load_iris(return_X_y=True)\n",
    "iris_subset = pd.DataFrame(X[y!=0,:],\n",
    "                           columns = [\"sepal_length\", \"sepal_width\", \n",
    "                                      \"petal_length\", \"petal_width\"])\n",
    "y = y[y!=0] - 1\n",
    "iris_subset[\"species\"] = y"
   ]
  },
  {
   "cell_type": "code",
   "execution_count": 91,
   "metadata": {},
   "outputs": [
    {
     "data": {
      "image/png": "[encoded data removed]",
      "text/plain": [
       "<Figure size 432x288 with 1 Axes>"
      ]
     },
     "metadata": {
      "needs_background": "light"
     },
     "output_type": "display_data"
    }
   ],
   "source": [
    "virginica_filter = (y==1)\n",
    "plt.scatter(iris_subset[virginica_filter][\"sepal_length\"], \n",
    "            iris_subset[virginica_filter][\"sepal_width\"],\n",
    "            label = \"Virginica\")\n",
    "plt.scatter(iris_subset[~virginica_filter][\"sepal_length\"], \n",
    "            iris_subset[~virginica_filter][\"sepal_width\"],\n",
    "            label = \"Versicolor\")\n",
    "\n",
    "plt.xlabel(\"Sepal length (cm)\")\n",
    "plt.ylabel(\"Sepal width (cm)\")\n",
    "plt.legend()\n",
    "plt.show()"
   ]
  },
  {
   "cell_type": "markdown",
   "metadata": {},
   "source": [
    "We fit a model only with the sepal features."
   ]
  },
  {
   "cell_type": "code",
   "execution_count": 99,
   "metadata": {},
   "outputs": [
    {
     "name": "stdout",
     "output_type": "stream",
     "text": [
      "                 Generalized Linear Model Regression Results                  \n",
      "==============================================================================\n",
      "Dep. Variable:                species   No. Observations:                  100\n",
      "Model:                            GLM   Df Residuals:                       97\n",
      "Model Family:                Binomial   Df Model:                            2\n",
      "Link Function:                  logit   Scale:                          1.0000\n",
      "Method:                          IRLS   Log-Likelihood:                -55.163\n",
      "Date:                Mon, 22 Feb 2021   Deviance:                       110.33\n",
      "Time:                        00:23:04   Pearson chi2:                     100.\n",
      "No. Iterations:                     4                                         \n",
      "Covariance Type:            nonrobust                                         \n",
      "================================================================================\n",
      "                   coef    std err          z      P>|z|      [0.025      0.975]\n",
      "--------------------------------------------------------------------------------\n",
      "const          -13.0460      3.097     -4.212      0.000     -19.117      -6.975\n",
      "sepal_width      0.4047      0.863      0.469      0.639      -1.286       2.096\n",
      "sepal_length     1.9024      0.517      3.680      0.000       0.889       2.916\n",
      "================================================================================\n"
     ]
    }
   ],
   "source": [
    "logistic_model = sm.GLM(\n",
    "    iris_subset[\"species\"], sm.add_constant(iris_subset[[\"sepal_width\", \"sepal_length\"]]), \n",
    "    family=sm.families.Binomial()\n",
    ")\n",
    "logistic_results = logistic_model.fit()\n",
    "print(logistic_results.summary())"
   ]
  },
  {
   "cell_type": "markdown",
   "metadata": {},
   "source": [
    "### Q2 a)\n",
    "\n",
    "Assuming that the model is correct, write in one sentence an interpretation for the logistic model with respect to sepal length.\n",
    "\n",
    "*Hint: Recall that the logistic model is*\n",
    "\n",
    "$$\\log\\left(\\frac{p}{1-p}\\right) = x^T\\beta$$\n",
    "\n",
    "*where $p$ is the probability of the sample with feature vector $x$ being in class 1. The quantity on the left hand side is called the log odds ratio*."
   ]
  },
  {
   "cell_type": "markdown",
   "metadata": {},
   "source": [
    "### Q2 b)\n",
    "\n",
    "What happens to the interpretation if the model is misspecified?"
   ]
  },
  {
   "cell_type": "markdown",
   "metadata": {},
   "source": [
    "### Q2 c)\n",
    "\n",
    "We now also include petal width in our model. Which model has a better fit? How can you tell?"
   ]
  },
  {
   "cell_type": "code",
   "execution_count": 102,
   "metadata": {},
   "outputs": [
    {
     "name": "stdout",
     "output_type": "stream",
     "text": [
      "                 Generalized Linear Model Regression Results                  \n",
      "==============================================================================\n",
      "Dep. Variable:                species   No. Observations:                  100\n",
      "Model:                            GLM   Df Residuals:                       96\n",
      "Model Family:                Binomial   Df Model:                            3\n",
      "Link Function:                  logit   Scale:                          1.0000\n",
      "Method:                          IRLS   Log-Likelihood:                -12.951\n",
      "Date:                Mon, 22 Feb 2021   Deviance:                       25.902\n",
      "Time:                        00:23:49   Pearson chi2:                     32.6\n",
      "No. Iterations:                     8                                         \n",
      "Covariance Type:            nonrobust                                         \n",
      "================================================================================\n",
      "                   coef    std err          z      P>|z|      [0.025      0.975]\n",
      "--------------------------------------------------------------------------------\n",
      "const          -20.2873      8.055     -2.519      0.012     -36.075      -4.499\n",
      "sepal_width     -4.8233      2.097     -2.300      0.021      -8.933      -0.714\n",
      "sepal_length     1.2951      1.089      1.189      0.234      -0.839       3.430\n",
      "petal_width     15.9227      3.981      4.000      0.000       8.121      23.725\n",
      "================================================================================\n"
     ]
    }
   ],
   "source": [
    "logistic_model = sm.GLM(\n",
    "    iris_subset[\"species\"], sm.add_constant(iris_subset[[\"sepal_width\", \"sepal_length\", \"petal_width\"]]), \n",
    "    family=sm.families.Binomial()\n",
    ")\n",
    "logistic_results = logistic_model.fit()\n",
    "print(logistic_results.summary())"
   ]
  }
 ],
 "metadata": {
  "kernelspec": {
   "display_name": "Python 3",
   "language": "python",
   "name": "python3"
  },
  "language_info": {
   "codemirror_mode": {
    "name": "ipython",
    "version": 3
   },
   "file_extension": ".py",
   "mimetype": "text/x-python",
   "name": "python",
   "nbconvert_exporter": "python",
   "pygments_lexer": "ipython3",
   "version": "3.7.7"
  }
 },
 "nbformat": 4,
 "nbformat_minor": 4
}
