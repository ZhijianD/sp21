{
 "cells": [
  {
   "cell_type": "markdown",
   "metadata": {},
   "source": [
    "# Midterm 1 review"
   ]
  },
  {
   "cell_type": "markdown",
   "metadata": {},
   "source": [
    "## Bayesian modeling"
   ]
  },
  {
   "cell_type": "markdown",
   "metadata": {},
   "source": [
    "- Why Bayesianism?\n",
    "\n",
    "  - Allows reasoning about events or phenomena that are not repeatable (e.g. what is the outcome of an election?)\n",
    "  - Can incorporate assumptions into prior\n",
    "  - Convenient expression of hierarchical models: Share data across different sub-problems\n",
    " \n",
    "- Bayesian graphical models\n",
    "  - Expresses the conditional independence structure of the modeled RVs\n",
    "  - Visual aid for reasoning about model\n",
    "    \n",
    "(a) | (b) | (c) | (d) | (e)\n",
    "- | - | - | - | -\n",
    "![](a.png) | ![](b.png) |  ![](c.png) | ![](d.png) | ![](e.png)\n",
    "\n",
    "- Posterior-prior relationship: $p(\\theta|X) = \\frac{p(X|\\theta)\\cdot p(\\theta)}{p(X)}$\n",
    "- Fundamental problem: Hard to compute $p(X) = \\int p(X|\\theta) p(\\theta) d\\theta$\n",
    "- How to get around this?\n",
    "\n",
    "  - Use conjugate priors\n",
    "  - Do sampling / approximate sampling\n",
    "\n",
    "\n",
    "- [Conjugate priors](https://en.wikipedia.org/wiki/Conjugate_prior):  \n",
    "| Likelihood  | Prior       |\n",
    "| ------------| ----------- |\n",
    "| Normal      | Normal      |\n",
    "| Binomial    | Beta        |\n",
    "| Geometric   | Beta        |\n",
    "| Poisson     | Gamma       |\n",
    "\n",
    "\n",
    "- What do $\\alpha$ and $\\beta$ parameters mean for the Beta distribution?"
   ]
  },
  {
   "cell_type": "markdown",
   "metadata": {},
   "source": [
    "## Approximate sampling"
   ]
  },
  {
   "cell_type": "markdown",
   "metadata": {},
   "source": [
    "- Rejection sampling\n",
    "\n",
    "    - Proposal distribution $p(x)$\n",
    "    - Target function $f(x) $ \"=\" $p(X|\\theta)p(\\theta)$\n",
    "    - Steps:\n",
    "        - Find $M$ such that $Mf(x) \\leq p(x)$.\n",
    "        - Draw sample from $p(x)$\n",
    "        - Sample a uniform $[0,1]$ random variable $T$\n",
    "        - If $T \\leq Mf(x)/p(x)$, accept, else reject\n",
    "    - Inefficient in high dimensions due to curse of dimensionality\n",
    "    \n",
    "![](rejection_sampling.png)\n",
    "    \n",
    "- Approximate sampling via MCMC (Markov chain Monte Carlo)\n",
    "    - More efficient\n",
    "    - Samples are not independent\n",
    "    - Distribution of samples is only \"approximately\" the target\n",
    "- Gibbs sampling\n",
    "    - Steps:\n",
    "        - Initialize: $X^{(0)}$\n",
    "        - For k = 1, 2, 3, ...\n",
    "            - Cycle over coordinates: Sample $X_i^{(k+1)} \\sim p(x_i|X_{-i}^{(k/k+1)})$\n",
    "- Metropolis-Hastings:\n",
    "    - Steps:\n",
    "        - Initialize: $X^{(0)}$\n",
    "        - For k = 1, 2, 3, ...\n",
    "            - Propose new state using base transition kernel (distribution)\n",
    "            - Accept with probability $\\min\\left\\{\\frac{f(x_{new})}{f(x_{old})}, 1\\right\\}$\n",
    "    - Transition distribution is usually something simple (e.g. Gaussian)\n",
    "    - How to choose the parameters"
   ]
  },
  {
   "cell_type": "markdown",
   "metadata": {},
   "source": [
    "## GLMs"
   ]
  },
  {
   "cell_type": "markdown",
   "metadata": {},
   "source": [
    "- Has three parts\n",
    "    - (Systematic component) A design matrix $X$ and a coefficient vector $\\beta$.\n",
    "    - (Random component) A noise distribution family $p(-|\\mu)$ with mean parameter $\\mu$.\n",
    "    - A link function $g$ so that\n",
    "    \n",
    "$$ g(\\mathbb{E}[Y|X=x]) = \\beta^Tx$$\n",
    "\n",
    "$$Y|X=x \\sim p(y|g^{-1}(\\beta^Tx))$$\n",
    "\n",
    "- Examples\n",
    "    - Linear regression\n",
    "    - Logistic regression\n",
    "    - Poisson regression\n",
    "    - Negative binomial regression\n",
    "- Problem of overdispersion with Poisson\n",
    "- Being Bayesian allows us to put priors on the coefficients\n",
    "- Python packages\n",
    "    - `pymc3`\n",
    "    - `statsmodels`\n",
    "\n",
    "- Why use GLM?\n",
    "    - Can make use of subject matter knowledge to increase sample efficiency / extrapolate\n",
    "    - Models are naturally interpretable (in terms of the fitted vector of coefficients)\n",
    "    - “Easier” uncertainty quantification\n",
    "- How to write interpretations in words"
   ]
  }
 ],
 "metadata": {
  "kernelspec": {
   "display_name": "Python 3",
   "language": "python",
   "name": "python3"
  },
  "language_info": {
   "codemirror_mode": {
    "name": "ipython",
    "version": 3
   },
   "file_extension": ".py",
   "mimetype": "text/x-python",
   "name": "python",
   "nbconvert_exporter": "python",
   "pygments_lexer": "ipython3",
   "version": "3.7.7"
  }
 },
 "nbformat": 4,
 "nbformat_minor": 4
}
