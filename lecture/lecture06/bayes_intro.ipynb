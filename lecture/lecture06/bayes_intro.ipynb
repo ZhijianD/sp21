{
 "cells": [
  {
   "cell_type": "code",
   "execution_count": null,
   "metadata": {},
   "outputs": [],
   "source": [
    "import numpy as np\n",
    "import matplotlib.pyplot as plt\n",
    "import seaborn as sns\n",
    "sns.set()\n",
    "%matplotlib inline\n",
    "from scipy import stats"
   ]
  },
  {
   "cell_type": "code",
   "execution_count": null,
   "metadata": {},
   "outputs": [],
   "source": [
    "FIGURE_SIZE = (8, 6)"
   ]
  },
  {
   "cell_type": "markdown",
   "metadata": {},
   "source": [
    "# Plotting prior and posterior distributions"
   ]
  },
  {
   "cell_type": "code",
   "execution_count": null,
   "metadata": {},
   "outputs": [],
   "source": [
    "def plot_beta_prior_and_posterior(r, s, m, y, show_map=False, show_lmse=False):\n",
    "    \"\"\"\n",
    "    Plots prior and posterior Beta distribution\n",
    "    \n",
    "    Args:\n",
    "        r, s: parameters of the prior\n",
    "        m: total number of observations\n",
    "        y: number of observations that were 1\n",
    "        show_map: whether or not to show the MAP estimate as a vertical line\n",
    "        show_lmse: whether or not to show the LMSE/MMSE estimate as a vertical line\n",
    "    \"\"\"\n",
    "    x = np.linspace(0, 1, 100)\n",
    "    prior = stats.beta.pdf(x, r, s)\n",
    "    posterior = stats.beta.pdf(x, r+y, s+m-y)\n",
    "    \n",
    "    # You never have to memorize these: when making this notebook,\n",
    "    # I found them on the wikipedia page for the Beta distribution:\n",
    "    # https://en.wikipedia.org/wiki/Beta_distribution\n",
    "\n",
    "    if show_lmse:\n",
    "        x_lmse = (r+y)/(r+s+m)\n",
    "    else:\n",
    "        x_lmse = None\n",
    "        \n",
    "    if show_map:\n",
    "        x_map = (r + y -1) / (r + s + m - 2)\n",
    "    else:\n",
    "        x_map = None\n",
    "    plot_prior_posterior(x, prior, posterior, (0, 1),\n",
    "                         prior_label=f'Prior: Beta({r}, {s})',\n",
    "                         posterior_label=f'Posterior: Beta({r+y}, {s+m-y})',\n",
    "                         x_map=x_map, x_lmse=x_lmse)\n",
    "    \n",
    "\n",
    "def plot_gaussian_prior_and_posterior(μ_x, σ, ys, range_in_σs=3.5, show_map=False, show_lmse=False):\n",
    "    \"\"\"\n",
    "    Plots prior and posterior Normaly distribution\n",
    "    \n",
    "    Args:\n",
    "        μ_x, σ: parameters (mean, SD) of the prior distribution\n",
    "        ys: list or array of observations\n",
    "        range_in_σs: how many SDs away from the mean to show on the plot\n",
    "        show_map: whether or not to show the MAP estimate as a vertical line\n",
    "        show_lmse: whether or not to show the LMSE/MMSE estimate as a vertical line\n",
    "    \"\"\"\n",
    "    n = len(ys)\n",
    "    posterior_σ = np.sqrt(σ**2 / (n + 1))\n",
    "    posterior_mean = 1/(n+1) * (np.sum(ys) + μ_x)\n",
    "    \n",
    "    \n",
    "    # Compute range for plot\n",
    "    posterior_min = posterior_mean - (range_in_σs * posterior_σ)\n",
    "    posterior_max = posterior_mean + (range_in_σs * posterior_σ)\n",
    "    prior_min = μ_x - (range_in_σs * σ)\n",
    "    prior_max = μ_x + (range_in_σs * σ)\n",
    "    \n",
    "    xmin = min(posterior_min, prior_min)\n",
    "    xmax = max(posterior_max, prior_max)\n",
    "    x = np.linspace(xmin, xmax, 100)\n",
    "    if show_lmse:\n",
    "        x_lmse = posterior_mean\n",
    "    else:\n",
    "        x_lmse = None\n",
    "        \n",
    "    if show_map:\n",
    "        x_map = posterior_mean\n",
    "    else:\n",
    "        x_map = None\n",
    "\n",
    "    \n",
    "    prior = stats.norm.pdf(x, μ_x, σ)\n",
    "    posterior = stats.norm.pdf(x, posterior_mean, posterior_σ)\n",
    "    \n",
    "    \n",
    "    plot_prior_posterior(x, prior, posterior, (xmin, xmax), 'Prior', 'Posterior',\n",
    "                         x_map=x_map, x_lmse=x_lmse)\n",
    "    \n",
    "def plot_prior_posterior(x, prior, posterior, xlim, \n",
    "                         prior_label, posterior_label,\n",
    "                         x_map=None, x_lmse=None):\n",
    "    \"\"\"\n",
    "    Plots overlaid prior and posterior distributions (prior in gold, posterior in dark blue)\n",
    "    \n",
    "    Args:\n",
    "        x: values of x to plot for\n",
    "        prior: corresponding values of the prior PDF\n",
    "        posterior: corresponding values of the posterior PDF\n",
    "        xlim: tuple with min/max x values for the plot\n",
    "        prior_label, posterior_label: labels for the plot legend\n",
    "        x_map: if given, the MAP estimate\n",
    "        x_lmse: if given, the LMSE estimate\n",
    "    \"\"\"\n",
    "    \n",
    "    plt.figure(figsize=FIGURE_SIZE)\n",
    "    plt.plot(x, prior, lw=3, color='gold', label = prior_label)\n",
    "    plt.plot(x, posterior, lw=3, color='darkblue', label = posterior_label)\n",
    "    if x_map is not None:\n",
    "        map_index = np.argmin(np.abs(x - x_map))\n",
    "        posterior_map = posterior[map_index]\n",
    "        label = f'MAP estimate: {x_map:0.2f}'\n",
    "        plt.plot([x_map, x_map], [0, posterior_map], '--', lw=2.5, color='black', label=label)\n",
    "    if x_lmse is not None:\n",
    "        lmse_index = np.argmin(np.abs(x - x_lmse))\n",
    "        posterior_lmse = posterior[lmse_index]\n",
    "        label = f'LMSE estimate: {x_lmse:0.2f}'\n",
    "        plt.plot([x_lmse, x_lmse], [0, posterior_lmse], '--', lw=1.5, color='red', label=label)\n",
    "    #plt.legend(bbox_to_anchor=(1.32, 1.02))\n",
    "    plt.legend()\n",
    "    ymax = max(np.max(prior[np.isfinite(prior)]), \n",
    "               np.max(posterior[np.isfinite(posterior)]))\n",
    "    plt.ylim(-0.3, ymax+0.1)\n",
    "    plt.xlim(*xlim)\n",
    "    plt.xlabel('$x$')\n",
    "    plt.title('Prior $p(x)$ and posterior given observed data $y$ $p(x|y)$');"
   ]
  },
  {
   "cell_type": "code",
   "execution_count": null,
   "metadata": {},
   "outputs": [],
   "source": [
    "plot_gaussian_prior_and_posterior(5*12+9, 2, [5*12+6, 5*12+5, 6*12, 5*12+11])"
   ]
  },
  {
   "cell_type": "code",
   "execution_count": null,
   "metadata": {},
   "outputs": [],
   "source": [
    "plot_gaussian_prior_and_posterior(10, 1, [11])"
   ]
  },
  {
   "cell_type": "code",
   "execution_count": null,
   "metadata": {},
   "outputs": [],
   "source": [
    "plot_gaussian_prior_and_posterior(10, 1, [0, 20])"
   ]
  },
  {
   "cell_type": "code",
   "execution_count": null,
   "metadata": {},
   "outputs": [],
   "source": [
    "plot_gaussian_prior_and_posterior(10, 1, [9, 9.5, 9.8, 9.2, 9.7, 10.1])"
   ]
  },
  {
   "cell_type": "code",
   "execution_count": null,
   "metadata": {},
   "outputs": [],
   "source": [
    "plot_gaussian_prior_and_posterior(10, 1, [-30, 50])"
   ]
  },
  {
   "cell_type": "code",
   "execution_count": null,
   "metadata": {
    "scrolled": false
   },
   "outputs": [],
   "source": [
    "plot_beta_prior_and_posterior(0.7, 0.5, 0, 0)"
   ]
  },
  {
   "cell_type": "code",
   "execution_count": null,
   "metadata": {},
   "outputs": [],
   "source": [
    "plot_beta_prior_and_posterior(1.5, 3.5, 2, 0)\n",
    "plot_beta_prior_and_posterior(3, 7, 2, 0)"
   ]
  },
  {
   "cell_type": "code",
   "execution_count": null,
   "metadata": {},
   "outputs": [],
   "source": [
    "plot_beta_prior_and_posterior(1, 1, 15, 14)"
   ]
  },
  {
   "cell_type": "code",
   "execution_count": null,
   "metadata": {},
   "outputs": [],
   "source": [
    "plot_beta_prior_and_posterior(10, 7, 200, 10)"
   ]
  },
  {
   "cell_type": "code",
   "execution_count": null,
   "metadata": {},
   "outputs": [],
   "source": [
    "plot_beta_prior_and_posterior(100, 7, 200, 10)"
   ]
  },
  {
   "cell_type": "code",
   "execution_count": null,
   "metadata": {},
   "outputs": [],
   "source": [
    "plot_gaussian_prior_and_posterior(10, 1, [11, 5, 15], show_map=True, show_lmse=True)"
   ]
  },
  {
   "cell_type": "code",
   "execution_count": null,
   "metadata": {},
   "outputs": [],
   "source": [
    "plot_beta_prior_and_posterior(3, 4, 2, 0, show_lmse=True, show_map=True)"
   ]
  },
  {
   "cell_type": "markdown",
   "metadata": {},
   "source": [
    "## Example: modeling heights"
   ]
  },
  {
   "cell_type": "code",
   "execution_count": null,
   "metadata": {},
   "outputs": [],
   "source": [
    "from datascience import *"
   ]
  },
  {
   "cell_type": "code",
   "execution_count": null,
   "metadata": {},
   "outputs": [],
   "source": [
    "galton = Table.read_table('./galton.csv')\n",
    "galton"
   ]
  },
  {
   "cell_type": "code",
   "execution_count": null,
   "metadata": {},
   "outputs": [],
   "source": [
    "galton.hist('childHeight', bins=np.arange(55, 80, 1))"
   ]
  },
  {
   "cell_type": "code",
   "execution_count": null,
   "metadata": {},
   "outputs": [],
   "source": [
    "galton.hist('childHeight', group='gender', bins=np.arange(55, 80, 1))"
   ]
  }
 ],
 "metadata": {
  "kernelspec": {
   "display_name": "Python 3",
   "language": "python",
   "name": "python3"
  },
  "language_info": {
   "codemirror_mode": {
    "name": "ipython",
    "version": 3
   },
   "file_extension": ".py",
   "mimetype": "text/x-python",
   "name": "python",
   "nbconvert_exporter": "python",
   "pygments_lexer": "ipython3",
   "version": "3.7.3"
  }
 },
 "nbformat": 4,
 "nbformat_minor": 2
}
